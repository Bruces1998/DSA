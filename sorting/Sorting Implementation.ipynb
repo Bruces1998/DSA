{
 "cells": [
  {
   "cell_type": "code",
   "execution_count": 1,
   "metadata": {},
   "outputs": [],
   "source": [
    "#Bubble Sort\n",
    "def bubble_sort(arr):\n",
    "    n = len(arr)\n",
    "    \n",
    "    for i in range(n-1, 0, -1):\n",
    "        for j in range(i):\n",
    "            \n",
    "            if arr[j] > arr[j+1]:\n",
    "                arr[j], arr[j+1] = arr[j+1], arr[j]"
   ]
  },
  {
   "cell_type": "code",
   "execution_count": 2,
   "metadata": {},
   "outputs": [],
   "source": [
    "arr = [5, 3, 7, 2]\n",
    "bubble_sort(arr)"
   ]
  },
  {
   "cell_type": "code",
   "execution_count": 3,
   "metadata": {},
   "outputs": [
    {
     "data": {
      "text/plain": [
       "[2, 3, 5, 7]"
      ]
     },
     "execution_count": 3,
     "metadata": {},
     "output_type": "execute_result"
    }
   ],
   "source": [
    "arr"
   ]
  },
  {
   "cell_type": "code",
   "execution_count": 7,
   "metadata": {},
   "outputs": [],
   "source": [
    "#Selection Sort\n",
    "def selection_sort(arr):\n",
    "    n = len(arr)\n",
    "    for i in range(n-1):\n",
    "        minn = i\n",
    "        for j in range(i+1,n):\n",
    "            if arr[j] < arr[minn]:\n",
    "                minn = j\n",
    "                \n",
    "        arr[i], arr[minn] = arr[minn], arr[i]\n",
    "        \n",
    "    return arr\n",
    "            "
   ]
  },
  {
   "cell_type": "code",
   "execution_count": 8,
   "metadata": {},
   "outputs": [
    {
     "data": {
      "text/plain": [
       "[2, 3, 5, 7]"
      ]
     },
     "execution_count": 8,
     "metadata": {},
     "output_type": "execute_result"
    }
   ],
   "source": [
    "selection_sort([5, 3, 7, 2])"
   ]
  },
  {
   "cell_type": "code",
   "execution_count": 9,
   "metadata": {},
   "outputs": [
    {
     "data": {
      "text/plain": [
       "[2, 3, 5, 7]"
      ]
     },
     "execution_count": 9,
     "metadata": {},
     "output_type": "execute_result"
    }
   ],
   "source": [
    "arr"
   ]
  },
  {
   "cell_type": "code",
   "execution_count": 13,
   "metadata": {},
   "outputs": [],
   "source": [
    "#Insertion Sort\n",
    "def insertion_sort(arr):\n",
    "    n = len(arr)\n",
    "    for i in range(1, n):\n",
    "        x = arr[i]\n",
    "        j = i\n",
    "        while(j > 0 and arr[j-1] > x):\n",
    "            arr[j] = arr[j-1]\n",
    "            j -= 1\n",
    "            \n",
    "        arr[j] = x\n",
    "        \n",
    "    return arr"
   ]
  },
  {
   "cell_type": "code",
   "execution_count": 14,
   "metadata": {},
   "outputs": [
    {
     "data": {
      "text/plain": [
       "[2, 3, 5, 7]"
      ]
     },
     "execution_count": 14,
     "metadata": {},
     "output_type": "execute_result"
    }
   ],
   "source": [
    "insertion_sort([5, 3, 2, 7])"
   ]
  },
  {
   "cell_type": "code",
   "execution_count": 15,
   "metadata": {},
   "outputs": [],
   "source": [
    "#shell sort\n",
    "def sort_gaps(arr, start, gap):\n",
    "    n = len(arr)\n",
    "    for i in range(start+gap, n, gap):\n",
    "        x = arr[i]\n",
    "        j = i\n",
    "        while(j > 0 and arr[j - gap] > x):\n",
    "            arr[j] = arr[j - gap]\n",
    "            j -= gap\n",
    "            \n",
    "        arr[j] = x\n",
    "        \n",
    "\n",
    "def shell_sort(arr):\n",
    "    n = len(arr)\n",
    "    shell_subcount = n//2\n",
    "    \n",
    "    while shell_subcount > 0:\n",
    "        for start in range(shell_subcount):\n",
    "            sort_gaps(arr, start, shell_subcount)\n",
    "            \n",
    "        shell_subcount = shell_subcount//2"
   ]
  },
  {
   "cell_type": "code",
   "execution_count": 16,
   "metadata": {},
   "outputs": [],
   "source": [
    "arr = [5, 3, 7, 2]"
   ]
  },
  {
   "cell_type": "code",
   "execution_count": 17,
   "metadata": {},
   "outputs": [],
   "source": [
    "shell_sort(arr)"
   ]
  },
  {
   "cell_type": "code",
   "execution_count": 18,
   "metadata": {},
   "outputs": [
    {
     "data": {
      "text/plain": [
       "[2, 3, 5, 7]"
      ]
     },
     "execution_count": 18,
     "metadata": {},
     "output_type": "execute_result"
    }
   ],
   "source": [
    "arr"
   ]
  },
  {
   "cell_type": "code",
   "execution_count": 43,
   "metadata": {},
   "outputs": [],
   "source": [
    "#merge sort\n",
    "\n",
    "def merge(arr, f, s, t):\n",
    "    i = f\n",
    "    j = s\n",
    "    k = -1\n",
    "    temp = [0]*100\n",
    "    \n",
    "    while(i < s and j <= t):\n",
    "        if arr[i] < arr[j]:\n",
    "            k+=1\n",
    "            temp[k] = arr[i]\n",
    "            i+=1\n",
    "            \n",
    "        else:\n",
    "            k+=1\n",
    "            temp[k] = arr[j]\n",
    "            j+=1\n",
    "    if i == s:\n",
    "        for w in range(j, t+1):\n",
    "            k+=1\n",
    "            temp[k] = arr[w]\n",
    "            \n",
    "            \n",
    "    else:\n",
    "        for w in range(i, s):\n",
    "            k+=1\n",
    "            temp[k] = arr[w]\n",
    "    for w in range(k+1):\n",
    "        arr[f+w] = temp[w]\n",
    "        \n",
    "        \n",
    "def merge_sort(arr, l, r):\n",
    "    mid = (l+r)//2\n",
    "    if (l < r):\n",
    "        merge_sort(arr, l, mid)\n",
    "        merge_sort(arr, mid+1, r)\n",
    "        merge(arr, l, mid+1, r)\n",
    "        \n",
    "        \n",
    "arr = [5, 3, 2, 7, 9, 4]\n",
    "merge_sort(arr, 0, 5)\n",
    "        \n",
    "    "
   ]
  },
  {
   "cell_type": "code",
   "execution_count": 44,
   "metadata": {},
   "outputs": [
    {
     "data": {
      "text/plain": [
       "[2, 3, 4, 5, 7, 9]"
      ]
     },
     "execution_count": 44,
     "metadata": {},
     "output_type": "execute_result"
    }
   ],
   "source": [
    "arr"
   ]
  },
  {
   "cell_type": "code",
   "execution_count": 45,
   "metadata": {},
   "outputs": [],
   "source": [
    "#quicksort\n",
    "\n",
    "def partition(arr, l, r):\n",
    "    x = arr[l]\n",
    "    i = l\n",
    "    j = r\n",
    "    \n",
    "    while(i < r):\n",
    "        \n",
    "        while( i <= r and arr[i] <= x):\n",
    "            i += 1\n",
    "            \n",
    "        while(arr[j] > x):\n",
    "            j -= 1\n",
    "            \n",
    "        if (i < r):\n",
    "            arr[i], arr[j] = arr[j], arr[i]\n",
    "            \n",
    "    arr[l], arr[j] = arr[j], arr[l]\n",
    "    \n",
    "    return j\n",
    "\n",
    "def quick_sort(arr, l, r):\n",
    "    if l < r:\n",
    "        p = partition(arr, l, r)\n",
    "        quick_sort(arr, l, p-1)\n",
    "        quick_sort(arr, p+1, r)"
   ]
  },
  {
   "cell_type": "code",
   "execution_count": 46,
   "metadata": {},
   "outputs": [],
   "source": [
    "arr = [5, 3, 2, 7]\n",
    "quick_sort(arr, 0, 3)"
   ]
  },
  {
   "cell_type": "code",
   "execution_count": 47,
   "metadata": {},
   "outputs": [
    {
     "data": {
      "text/plain": [
       "[2, 3, 5, 7]"
      ]
     },
     "execution_count": 47,
     "metadata": {},
     "output_type": "execute_result"
    }
   ],
   "source": [
    "arr"
   ]
  },
  {
   "cell_type": "code",
   "execution_count": 48,
   "metadata": {},
   "outputs": [
    {
     "name": "stdout",
     "output_type": "stream",
     "text": [
      "3.5 µs ± 40 ns per loop (mean ± std. dev. of 7 runs, 100000 loops each)\n"
     ]
    }
   ],
   "source": [
    "import timeit\n",
    "%timeit quick_sort([8, 9, 4 , 10], 0, 3)"
   ]
  },
  {
   "cell_type": "code",
   "execution_count": 49,
   "metadata": {},
   "outputs": [
    {
     "name": "stdout",
     "output_type": "stream",
     "text": [
      "8.25 µs ± 125 ns per loop (mean ± std. dev. of 7 runs, 100000 loops each)\n"
     ]
    }
   ],
   "source": [
    "%timeit merge_sort([8, 9, 4 , 10], 0, 3)"
   ]
  },
  {
   "cell_type": "code",
   "execution_count": 53,
   "metadata": {},
   "outputs": [],
   "source": [
    "#heapsort\n",
    "def heapify(arr, i, n):\n",
    "    l = 2*i + 1\n",
    "    r = 2*i + 2\n",
    "    largest = i\n",
    "    \n",
    "    if l < n and arr[largest] < arr[l]:\n",
    "        largest = l\n",
    "        \n",
    "    if r < n and arr[largest] < arr[r]:\n",
    "        largest = r\n",
    "        \n",
    "    if largest != i:\n",
    "        arr[i], arr[largest] = arr[largest], arr[i]\n",
    "        \n",
    "        heapify(arr, largest, n)\n",
    "        \n",
    "def heap_sort(arr):\n",
    "    n = len(arr)\n",
    "    for i in range(n//2 -1, -1, -1):\n",
    "        heapify(arr, i, n)\n",
    "        \n",
    "    for i in range(n-1, 0, -1):\n",
    "        arr[i], arr[0] = arr[0], arr[i]\n",
    "        heapify(arr, 0, i)"
   ]
  },
  {
   "cell_type": "code",
   "execution_count": 54,
   "metadata": {},
   "outputs": [],
   "source": [
    "arr = [2, 4, 1, 3]\n",
    "heap_sort(arr)"
   ]
  },
  {
   "cell_type": "code",
   "execution_count": 55,
   "metadata": {},
   "outputs": [
    {
     "data": {
      "text/plain": [
       "[1, 2, 3, 4]"
      ]
     },
     "execution_count": 55,
     "metadata": {},
     "output_type": "execute_result"
    }
   ],
   "source": [
    "arr"
   ]
  },
  {
   "cell_type": "code",
   "execution_count": null,
   "metadata": {},
   "outputs": [],
   "source": []
  }
 ],
 "metadata": {
  "kernelspec": {
   "display_name": "Python 3",
   "language": "python",
   "name": "python3"
  },
  "language_info": {
   "codemirror_mode": {
    "name": "ipython",
    "version": 3
   },
   "file_extension": ".py",
   "mimetype": "text/x-python",
   "name": "python",
   "nbconvert_exporter": "python",
   "pygments_lexer": "ipython3",
   "version": "3.7.3"
  }
 },
 "nbformat": 4,
 "nbformat_minor": 2
}
