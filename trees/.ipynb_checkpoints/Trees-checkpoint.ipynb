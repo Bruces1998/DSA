{
 "cells": [
  {
   "cell_type": "code",
   "execution_count": 6,
   "metadata": {},
   "outputs": [],
   "source": [
    "def maxPathSum(root):\n",
    "    ans = float(\"-inf\")\n",
    "    \n",
    "    def mpsUtil(node):\n",
    "        nonlocal ans\n",
    "        if node == None:\n",
    "            return 0\n",
    "        \n",
    "        max_from_left = max(mpsUtil(node.left), 0)\n",
    "        max_from_right = max(mpsUtil(node.right), 0)\n",
    "        \n",
    "        ans = max(ans, max_from_left + node.val + max_from_right)\n",
    "        return node.val + max(max_from_left, max_from_right)\n",
    "    \n",
    "    mpsUtil(root)\n",
    "    return ans\n",
    "    \n",
    "    "
   ]
  },
  {
   "cell_type": "code",
   "execution_count": 8,
   "metadata": {},
   "outputs": [],
   "source": [
    "class Node:\n",
    "    def __init__(self, val):\n",
    "        self.val = val\n",
    "        self.right = None\n",
    "        self.left = None\n",
    "        \n",
    "        \n",
    "n1 = Node(-10)\n",
    "n2 = Node(9)\n",
    "n3 = Node(20)\n",
    "n4 = Node(15)\n",
    "n5 = Node(7)\n",
    "\n",
    "n1.left = n2\n",
    "n1.right = n3\n",
    "n3.left = n4\n",
    "n3.right = n5\n",
    "\n",
    "        "
   ]
  },
  {
   "cell_type": "code",
   "execution_count": 9,
   "metadata": {},
   "outputs": [
    {
     "data": {
      "text/plain": [
       "42"
      ]
     },
     "execution_count": 9,
     "metadata": {},
     "output_type": "execute_result"
    }
   ],
   "source": [
    "maxPathSum(n1)"
   ]
  },
  {
   "cell_type": "code",
   "execution_count": 10,
   "metadata": {},
   "outputs": [],
   "source": [
    "def balancedTree(root):\n",
    "    \n",
    "    def someFunction(node):\n",
    "        if node == None:\n",
    "            return 0\n",
    "        \n",
    "        leftSide = someFunction(node.left)\n",
    "        if leftSide == -1:\n",
    "            return -1\n",
    "        \n",
    "        rightSide = someFunction(node.right)\n",
    "        if rightSide == -1:\n",
    "            return -1\n",
    "        \n",
    "        if abs(leftSide - rightSide)>1:\n",
    "            return -1\n",
    "        \n",
    "        return 1 + max(leftSide, rightSide)\n",
    "    \n",
    "    if someFunction(root) == -1:\n",
    "        return False\n",
    "    return True\n",
    "\n"
   ]
  },
  {
   "cell_type": "code",
   "execution_count": 32,
   "metadata": {},
   "outputs": [
    {
     "data": {
      "text/plain": [
       "True"
      ]
     },
     "execution_count": 32,
     "metadata": {},
     "output_type": "execute_result"
    }
   ],
   "source": [
    "n1 = Node(-10)\n",
    "n2 = Node(9)\n",
    "n3 = Node(20)\n",
    "n4 = Node(15)\n",
    "n5 = Node(35)\n",
    "n6 = Node(12)\n",
    "n7 = Node(16)\n",
    "n8 = Node(25)\n",
    "n9 = Node(27)\n",
    "\n",
    "\n",
    "n1.left = n2\n",
    "n1.right = n3\n",
    "n3.left = n4\n",
    "n3.right = n5\n",
    "n4.left = n6\n",
    "n4.right = n7\n",
    "n2.left = n8\n",
    "n2.right = n9\n",
    "\n",
    "balancedTree(n1)"
   ]
  },
  {
   "cell_type": "code",
   "execution_count": 39,
   "metadata": {},
   "outputs": [],
   "source": [
    "def levelOrderTraversal(root):\n",
    "    if root == None:\n",
    "        return []\n",
    "    \n",
    "    global_ans = []\n",
    "    global_queue = [root]\n",
    "    \n",
    "    while global_queue:\n",
    "        curr_ans = []\n",
    "        next_queue = []\n",
    "        \n",
    "        while global_queue:\n",
    "            curr_node = global_queue.pop(0)\n",
    "            curr_ans.append(curr_node.val)\n",
    "            \n",
    "            if curr_node.right:\n",
    "                next_queue.append(curr_node.right)\n",
    "                \n",
    "            if curr_node.left:\n",
    "                next_queue.append(curr_node.left)\n",
    "                \n",
    "            \n",
    "                \n",
    "        global_ans.append(curr_ans)\n",
    "        global_queue = next_queue\n",
    "        \n",
    "    return global_ans\n",
    "    "
   ]
  },
  {
   "cell_type": "code",
   "execution_count": 40,
   "metadata": {},
   "outputs": [
    {
     "data": {
      "text/plain": [
       "[[-10], [20, 9], [35, 15, 27, 25], [16, 12]]"
      ]
     },
     "execution_count": 40,
     "metadata": {},
     "output_type": "execute_result"
    }
   ],
   "source": [
    "levelOrderTraversal(n1)"
   ]
  },
  {
   "cell_type": "code",
   "execution_count": 30,
   "metadata": {},
   "outputs": [],
   "source": [
    "def levelOrderTraversal(root):\n",
    "    if root == None:\n",
    "        return []\n",
    "    \n",
    "    global_ans = []\n",
    "    global_queue = [root]\n",
    "    \n",
    "    while global_queue:\n",
    "        curr_ans = []\n",
    "        next_queue = []\n",
    "        \n",
    "        while global_queue:\n",
    "            curr_node = global_queue.pop(0)\n",
    "            curr_ans.append(curr_node.val)\n",
    "            \n",
    "            if curr_node.left:\n",
    "                next_queue.append(curr_node.left)\n",
    "                \n",
    "            if curr_node.right:\n",
    "                next_queue.append(curr_node.right)\n",
    "                \n",
    "        global_ans.append(curr_ans)\n",
    "        global_queue = next_queue\n",
    "        \n",
    "    return global_ans\n",
    "    "
   ]
  },
  {
   "cell_type": "code",
   "execution_count": 37,
   "metadata": {},
   "outputs": [],
   "source": [
    "'''\n",
    "Diagonal Traversal\n",
    "'''\n",
    "\n",
    "def diagonalTraversal(root):\n",
    "    global_ans = []\n",
    "    global_queue = [root]\n",
    "    \n",
    "    while global_queue:\n",
    "        next_queue = [] #traversal for the next diagonal\n",
    "        curr_ans = [] #storing ans for the current diagonal\n",
    "        while global_queue:\n",
    "            curr_node = global_queue.pop(0)\n",
    "            curr_ans.append(curr_node.val)\n",
    "            \n",
    "            if curr_node.left:\n",
    "                next_queue.append(curr_node.left)\n",
    "                \n",
    "            while curr_node.right:\n",
    "                curr_node = curr_node.right\n",
    "                curr_ans.append(curr_node.val)\n",
    "                if curr_node.left:\n",
    "                    next_queue.append(curr_node.left)\n",
    "                    \n",
    "            \n",
    "        global_queue = next_queue\n",
    "        global_ans.append(curr_ans)\n",
    "        \n",
    "    return global_ans\n",
    "                "
   ]
  },
  {
   "cell_type": "code",
   "execution_count": 38,
   "metadata": {},
   "outputs": [
    {
     "data": {
      "text/plain": [
       "[[-10, 20, 35], [9, 27, 15, 16], [25, 12]]"
      ]
     },
     "execution_count": 38,
     "metadata": {},
     "output_type": "execute_result"
    }
   ],
   "source": [
    "diagonalTraversal(n1)"
   ]
  },
  {
   "cell_type": "code",
   "execution_count": 45,
   "metadata": {},
   "outputs": [],
   "source": [
    "'''\n",
    "Left and Right View\n",
    "of the Binary tree\n",
    "'''\n",
    "def leftView(root):\n",
    "    \n",
    "    def util(node, level, res):\n",
    "        if node == None:\n",
    "            return\n",
    "        if level == len(res):\n",
    "            res.append(node.val)\n",
    "            \n",
    "        util(node.left, level+1, res)\n",
    "        util(node.right, level+1, res)\n",
    "        \n",
    "    result = []\n",
    "    util(root, 0, result)\n",
    "    return result\n",
    "        \n",
    "        "
   ]
  },
  {
   "cell_type": "code",
   "execution_count": 46,
   "metadata": {},
   "outputs": [
    {
     "data": {
      "text/plain": [
       "[-10, 9, 25, 12]"
      ]
     },
     "execution_count": 46,
     "metadata": {},
     "output_type": "execute_result"
    }
   ],
   "source": [
    "leftView(n1)"
   ]
  },
  {
   "cell_type": "code",
   "execution_count": null,
   "metadata": {},
   "outputs": [],
   "source": []
  }
 ],
 "metadata": {
  "kernelspec": {
   "display_name": "Python 3",
   "language": "python",
   "name": "python3"
  },
  "language_info": {
   "codemirror_mode": {
    "name": "ipython",
    "version": 3
   },
   "file_extension": ".py",
   "mimetype": "text/x-python",
   "name": "python",
   "nbconvert_exporter": "python",
   "pygments_lexer": "ipython3",
   "version": "3.7.3"
  }
 },
 "nbformat": 4,
 "nbformat_minor": 2
}
