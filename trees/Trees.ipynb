{
 "cells": [
  {
   "cell_type": "code",
   "execution_count": 1,
   "metadata": {},
   "outputs": [],
   "source": [
    "#inorder-preorder-postorder\n",
    "def inorder(node, arr):\n",
    "    if node!=None:\n",
    "        inorder(node.left, arr)\n",
    "        arr.append(node.val)\n",
    "        inorder(node.right, arr)\n",
    "\n",
    "def preorder(node, arr):\n",
    "    if node!=None:\n",
    "        arr.append(node.val)\n",
    "        preorder(node.left, arr)\n",
    "        preorder(node.right, arr)\n",
    "\n",
    "def postorder(node, arr):\n",
    "    if node:\n",
    "        postorder(node.val, arr)\n",
    "        postorder(node.val, arr)\n",
    "        arr.append(node.val)\n",
    "        "
   ]
  },
  {
   "cell_type": "code",
   "execution_count": null,
   "metadata": {},
   "outputs": [],
   "source": [
    "'''\n",
    "Morris Inorder Traversal \n",
    "'''\n",
    "\n",
    "def inorder(root):\n",
    "    arr = []\n",
    "    curr = root\n",
    "\n",
    "    while curr:\n",
    "        if curr.left == None:\n",
    "            arr.appned(curr.val)\n",
    "            curr = curr.right\n",
    "        \n",
    "        else:\n",
    "            prev = curr.left\n",
    "            while prev.right != None and prev.right != curr:\n",
    "                prev = prev = prev.right\n",
    "\n",
    "            if prev.right == None:\n",
    "                prev.right = curr\n",
    "                curr = curr.left\n",
    "            else:\n",
    "                prev.right = None\n",
    "                arr.append(curr.val)\n",
    "                curr = curr.right\n",
    "    return arr\n",
    "\n"
   ]
  },
  {
   "cell_type": "code",
   "execution_count": 3,
   "metadata": {},
   "outputs": [],
   "source": [
    "'''\n",
    "Left and Right View\n",
    "of the Binary tree\n",
    "'''\n",
    "def leftView(root):\n",
    "    \n",
    "    def util(node, level, res):\n",
    "        if node == None:\n",
    "            return\n",
    "        if level == len(res):\n",
    "            res.append(node.val)\n",
    "            \n",
    "        util(node.left, level+1, res)\n",
    "        util(node.right, level+1, res)\n",
    "        \n",
    "    result = []\n",
    "    util(root, 0, result)\n",
    "    return result\n",
    "\n",
    "def rightView(root):\n",
    "    \n",
    "    def util(node, level, res):\n",
    "        if node == None:\n",
    "            return\n",
    "        \n",
    "        if level == len(res):\n",
    "            res.append(node.val)\n",
    "            \n",
    "        util(node.right, level+1, res)\n",
    "        util(node.left, level+1, res)\n",
    "        \n",
    "    result = []\n",
    "    util(root, 0, result)\n",
    "    return result"
   ]
  },
  {
   "cell_type": "code",
   "execution_count": null,
   "metadata": {},
   "outputs": [],
   "source": [
    "'''\n",
    "The function performs all\n",
    "the three types of tree \n",
    "traversals using a single \n",
    "traversal.\n",
    "''' \n",
    "def allTraversal(root):\n",
    "    inorder_array = []\n",
    "    preorder_array = []\n",
    "    postorder_array = []\n",
    "    \n",
    "    def util(node):\n",
    "        if node == None:\n",
    "            return\n",
    "        preorder_array.append(node.val)\n",
    "        util(node.left)\n",
    "        inorder_array.append(node.val)\n",
    "        util(node.right)\n",
    "        postorder_array.append(node.val)\n",
    "    util(root)\n",
    "    return (preorder_array, inorder_array, postorder_array)"
   ]
  },
  {
   "cell_type": "code",
   "execution_count": 4,
   "metadata": {},
   "outputs": [],
   "source": [
    "#vertical order traversal\n",
    "from collections import defaultdict\n",
    "def verticalOrder(root):\n",
    "    g = defaultdict(list)\n",
    "    queue = [(root, 0)]\n",
    "    \n",
    "    while queue:\n",
    "        new = []\n",
    "        d = defaultdict(list)\n",
    "        for node, s in queue:\n",
    "            d[s].append(node.val)\n",
    "            if node.left:\n",
    "                new.append((node.left, s-1))\n",
    "            if node.right:\n",
    "                new.append((node.right, s+1))\n",
    "        \n",
    "        for i in d:\n",
    "            g[i].extend(sorted(d[i]))\n",
    "        queue = new\n",
    "        \n",
    "    return [g[i] for i in sorted(g)]\n",
    "                \n",
    "              "
   ]
  },
  {
   "cell_type": "code",
   "execution_count": 5,
   "metadata": {},
   "outputs": [],
   "source": [
    "def widthOfTree(root):\n",
    "    if not root:\n",
    "        return 0\n",
    "    \n",
    "    ans = 0\n",
    "    queue = [(root, 0)]\n",
    "    \n",
    "    while queue:\n",
    "        size = len(queue)\n",
    "        currMin = queue[0][1]\n",
    "        leftMost = 0\n",
    "        rightMost = 0\n",
    "        \n",
    "        for i in range(size):\n",
    "            currNode, currId = queue.pop(0)\n",
    "            currId = currId - currMin\n",
    "            \n",
    "            if i == 0:\n",
    "                leftMost = currId\n",
    "            if i == size - 1:\n",
    "                rightMost = currId\n",
    "                \n",
    "            if currNode.left:\n",
    "                queue.append((currNode.left, currId*2 +1))\n",
    "            if currNode.right:\n",
    "                queue.append((currNode.right, currId*2 + 2))\n",
    "                \n",
    "        ans = max(ans, rightMost - leftMost + 1)\n",
    "        \n",
    "    return ans"
   ]
  },
  {
   "cell_type": "code",
   "execution_count": 6,
   "metadata": {},
   "outputs": [],
   "source": [
    "def printPath(root, target):\n",
    "    ans = []\n",
    "    def util(node, ans):\n",
    "        print(ans)\n",
    "        if node == None:\n",
    "            return False\n",
    "        if node.val == target:\n",
    "            ans.append(node.val)\n",
    "            return True\n",
    "        if util(node.left, ans) or util(node.right, ans):\n",
    "            ans.append(node.val)\n",
    "            return True\n",
    "        return False\n",
    "    util(n1, ans)\n",
    "    return ans[::-1]\n"
   ]
  },
  {
   "cell_type": "code",
   "execution_count": null,
   "metadata": {},
   "outputs": [],
   "source": [
    "def levelOrderTraversal(root):\n",
    "    if root == None:\n",
    "        return []\n",
    "    \n",
    "    global_ans = []\n",
    "    global_queue = [root]\n",
    "    \n",
    "    while global_queue:\n",
    "        curr_ans = []\n",
    "        next_queue = []\n",
    "        \n",
    "        while global_queue:\n",
    "            curr_node = global_queue.pop(0)\n",
    "            curr_ans.append(curr_node.val)\n",
    "            \n",
    "            if curr_node.right:\n",
    "                next_queue.append(curr_node.right)\n",
    "                \n",
    "            if curr_node.left:\n",
    "                next_queue.append(curr_node.left)\n",
    "                \n",
    "            \n",
    "                \n",
    "        global_ans.append(curr_ans)\n",
    "        global_queue = next_queue\n",
    "        \n",
    "    return global_ans\n",
    "    "
   ]
  },
  {
   "cell_type": "code",
   "execution_count": null,
   "metadata": {},
   "outputs": [],
   "source": [
    "def diameterOfTree(root):\n",
    "    ans = 0\n",
    "    def util(node):\n",
    "        nonlocal ans\n",
    "        if node == None:\n",
    "            return 0\n",
    "        lhs = 0\n",
    "        rhs = 0\n",
    "        if node.left:\n",
    "            lhs = util(node.left)+1\n",
    "        if node.right:\n",
    "            rhs = util(node.right)+1\n",
    "        ans = max(ans, lhs+rhs)\n",
    "        \n",
    "        return max(lhs, rhs)\n",
    "    util(root)\n",
    "    return ans"
   ]
  },
  {
   "cell_type": "code",
   "execution_count": null,
   "metadata": {},
   "outputs": [],
   "source": [
    "'''\n",
    "Height of Binary Tree\n",
    "'''\n",
    "def height(node):\n",
    "    if node == None:\n",
    "        return 0\n",
    "    lhs = height(node.left)\n",
    "    rhs = height(node.right)\n",
    "    \n",
    "    return max(lhs, rhs) + 1"
   ]
  },
  {
   "cell_type": "code",
   "execution_count": null,
   "metadata": {},
   "outputs": [],
   "source": [
    "def parent(root):\n",
    "    def height_balanced(node):\n",
    "        if node == None:\n",
    "            return 0\n",
    "\n",
    "        lhs = height_balanced(node.left)\n",
    "        if lhs == -1:\n",
    "            return -1\n",
    "        rhs = height_balanced(node.right)\n",
    "        if rhs == -1:\n",
    "            return -1\n",
    "\n",
    "        if abs(lhs - rhs)>1:\n",
    "            return -1\n",
    "        return 1 + max(lhs, rhs)\n",
    "    \n",
    "    print(height_balanced(root))\n",
    "    if height_balanced(root) == -1:\n",
    "        return False\n",
    "    \n",
    "    return True"
   ]
  },
  {
   "cell_type": "code",
   "execution_count": null,
   "metadata": {},
   "outputs": [],
   "source": [
    "def LCA(root, x, y):\n",
    "    if root == None or root == x or root == y:\n",
    "        return root\n",
    "    \n",
    "    left = LCA(root.left, x, y)\n",
    "    right = LCA(root.right, x, y)\n",
    "    \n",
    "    if left == None:\n",
    "        return right\n",
    "    elif right == None:\n",
    "        return left\n",
    "    else:\n",
    "        return root\n",
    "    \n",
    "print(LCA(n1, n3, n7).val)\n",
    "    "
   ]
  },
  {
   "cell_type": "code",
   "execution_count": null,
   "metadata": {},
   "outputs": [],
   "source": [
    "def areIdentical(root1, root2):\n",
    "    \n",
    "    def util(node1, node2):\n",
    "        if node1 == None and node2 == None:\n",
    "            return True\n",
    "        if node1 == None or node2 == None:\n",
    "            return False\n",
    "        \n",
    "        if node1.val != node2.val:\n",
    "            return False\n",
    "        \n",
    "        return util(node1.left, node2.left) and util(node1.right, node2.right)\n",
    "    \n",
    "    return util(root1, root2)"
   ]
  },
  {
   "cell_type": "code",
   "execution_count": 6,
   "metadata": {},
   "outputs": [],
   "source": [
    "def maxPathSum(root):\n",
    "    ans = float(\"-inf\")\n",
    "    \n",
    "    def mpsUtil(node):\n",
    "        nonlocal ans\n",
    "        if node == None:\n",
    "            return 0\n",
    "        \n",
    "        max_from_left = max(mpsUtil(node.left), 0)\n",
    "        max_from_right = max(mpsUtil(node.right), 0)\n",
    "        \n",
    "        ans = max(ans, max_from_left + node.val + max_from_right)\n",
    "        return node.val + max(max_from_left, max_from_right)\n",
    "    \n",
    "    mpsUtil(root)\n",
    "    return ans\n",
    "    \n",
    "    "
   ]
  },
  {
   "cell_type": "code",
   "execution_count": null,
   "metadata": {},
   "outputs": [],
   "source": [
    "'''\n",
    "check for symmetry\n",
    "'''\n",
    "\n",
    "def isSymmetric(root):\n",
    "    if not root:\n",
    "        return True\n",
    "    \n",
    "    def util(node1, node2):\n",
    "        if node1 == None and node2 == None:\n",
    "            return True\n",
    "        if node1 == None or node2 == None:\n",
    "            return False\n",
    "        \n",
    "        if node1.val != node2.val:\n",
    "            return False\n",
    "        \n",
    "        return util(node1.left, node2.right) and util(node1.right, node2.left)\n",
    "    \n",
    "    return util(root.left, root.right)"
   ]
  },
  {
   "cell_type": "code",
   "execution_count": null,
   "metadata": {},
   "outputs": [],
   "source": [
    "def flattenTree(root):\n",
    "\n",
    "    stack = [root]\n",
    "    while stack != []:\n",
    "        curr = stack.pop(-1)\n",
    "        \n",
    "        if curr.right:\n",
    "            stack.append(curr.right)\n",
    "            \n",
    "        if curr.left:\n",
    "            stack.append(curr.left)\n",
    "            \n",
    "        if stack != []:\n",
    "            curr.right = stack[-1]\n",
    "            \n",
    "        curr.left = None"
   ]
  },
  {
   "cell_type": "code",
   "execution_count": 10,
   "metadata": {},
   "outputs": [],
   "source": [
    "def balancedTree(root):\n",
    "    \n",
    "    def someFunction(node):\n",
    "        if node == None:\n",
    "            return 0\n",
    "        \n",
    "        leftSide = someFunction(node.left)\n",
    "        if leftSide == -1:\n",
    "            return -1\n",
    "        \n",
    "        rightSide = someFunction(node.right)\n",
    "        if rightSide == -1:\n",
    "            return -1\n",
    "        \n",
    "        if abs(leftSide - rightSide)>1:\n",
    "            return -1\n",
    "        \n",
    "        return 1 + max(leftSide, rightSide)\n",
    "    \n",
    "    if someFunction(root) == -1:\n",
    "        return False\n",
    "    return True\n",
    "\n"
   ]
  },
  {
   "cell_type": "code",
   "execution_count": 32,
   "metadata": {},
   "outputs": [
    {
     "data": {
      "text/plain": [
       "True"
      ]
     },
     "execution_count": 32,
     "metadata": {},
     "output_type": "execute_result"
    }
   ],
   "source": []
  },
  {
   "cell_type": "code",
   "execution_count": 40,
   "metadata": {},
   "outputs": [
    {
     "data": {
      "text/plain": [
       "[[-10], [20, 9], [35, 15, 27, 25], [16, 12]]"
      ]
     },
     "execution_count": 40,
     "metadata": {},
     "output_type": "execute_result"
    }
   ],
   "source": [
    "levelOrderTraversal(n1)"
   ]
  },
  {
   "cell_type": "code",
   "execution_count": 37,
   "metadata": {},
   "outputs": [],
   "source": [
    "'''\n",
    "Diagonal Traversal\n",
    "'''\n",
    "\n",
    "def diagonalTraversal(root):\n",
    "    global_ans = []\n",
    "    global_queue = [root]\n",
    "    \n",
    "    while global_queue:\n",
    "        next_queue = [] #traversal for the next diagonal\n",
    "        curr_ans = [] #storing ans for the current diagonal\n",
    "        while global_queue:\n",
    "            curr_node = global_queue.pop(0)\n",
    "            curr_ans.append(curr_node.val)\n",
    "            \n",
    "            if curr_node.left:\n",
    "                next_queue.append(curr_node.left)\n",
    "                \n",
    "            while curr_node.right:\n",
    "                curr_node = curr_node.right\n",
    "                curr_ans.append(curr_node.val)\n",
    "                if curr_node.left:\n",
    "                    next_queue.append(curr_node.left)\n",
    "                    \n",
    "            \n",
    "        global_queue = next_queue\n",
    "        global_ans.append(curr_ans)\n",
    "        \n",
    "    return global_ans\n",
    "                "
   ]
  },
  {
   "cell_type": "code",
   "execution_count": 38,
   "metadata": {},
   "outputs": [
    {
     "data": {
      "text/plain": [
       "[[-10, 20, 35], [9, 27, 15, 16], [25, 12]]"
      ]
     },
     "execution_count": 38,
     "metadata": {},
     "output_type": "execute_result"
    }
   ],
   "source": [
    "diagonalTraversal(n1)"
   ]
  },
  {
   "cell_type": "code",
   "execution_count": 4,
   "metadata": {},
   "outputs": [],
   "source": []
  },
  {
   "cell_type": "code",
   "execution_count": 5,
   "metadata": {},
   "outputs": [
    {
     "data": {
      "text/plain": [
       "[-10, 20, 35]"
      ]
     },
     "execution_count": 5,
     "metadata": {},
     "output_type": "execute_result"
    }
   ],
   "source": [
    "leftView(n1)\n",
    "rightView(n1)"
   ]
  },
  {
   "cell_type": "code",
   "execution_count": 2,
   "metadata": {},
   "outputs": [],
   "source": [
    "from collections import defaultdict\n",
    "def verticalOrder(root):\n",
    "    mapp = defaultdict(list)\n",
    "    def util(node, dist):\n",
    "        if node == None:\n",
    "            return None\n",
    "        \n",
    "        mapp[dist].append(node.val)\n",
    "        util(node.left, dist - 1)\n",
    "        util(node.right, dist + 1)\n",
    "        \n",
    "    util(root, 0)\n",
    "    \n",
    "    for keys in sorted(mapp.keys()):\n",
    "        print(mapp[keys])\n",
    "        \n",
    "        "
   ]
  },
  {
   "cell_type": "code",
   "execution_count": 4,
   "metadata": {},
   "outputs": [
    {
     "name": "stdout",
     "output_type": "stream",
     "text": [
      "[4]\n",
      "[2, 6]\n",
      "[1, 5]\n",
      "[7, 3]\n"
     ]
    }
   ],
   "source": [
    "verticalOrder(n1)"
   ]
  },
  {
   "cell_type": "code",
   "execution_count": 6,
   "metadata": {},
   "outputs": [
    {
     "data": {
      "text/plain": [
       "([1, 2, 4, 5, 6, 7, 3], [4, 2, 6, 5, 7, 1, 3], [4, 6, 7, 5, 2, 3, 1])"
      ]
     },
     "execution_count": 6,
     "metadata": {},
     "output_type": "execute_result"
    }
   ],
   "source": [
    "n1 = Node(1)\n",
    "n2 = Node(2)\n",
    "n3 = Node(3)\n",
    "n4 = Node(4)\n",
    "n5 = Node(5)\n",
    "n6 = Node(6)\n",
    "n7 = Node(7)\n",
    "\n",
    "n1.left = n2\n",
    "n1.right = n3\n",
    "n2.left = n4\n",
    "n2.right = n5\n",
    "n5.left = n6\n",
    "n5.right = n7\n",
    "\n",
    "allTraversal(n1)"
   ]
  },
  {
   "cell_type": "code",
   "execution_count": 24,
   "metadata": {},
   "outputs": [],
   "source": []
  },
  {
   "cell_type": "code",
   "execution_count": 25,
   "metadata": {},
   "outputs": [
    {
     "data": {
      "text/plain": [
       "3"
      ]
     },
     "execution_count": 25,
     "metadata": {},
     "output_type": "execute_result"
    }
   ],
   "source": [
    "height(n1)"
   ]
  },
  {
   "cell_type": "code",
   "execution_count": 33,
   "metadata": {},
   "outputs": [],
   "source": [
    "\n",
    "        "
   ]
  },
  {
   "cell_type": "code",
   "execution_count": 35,
   "metadata": {},
   "outputs": [
    {
     "data": {
      "text/plain": [
       "False"
      ]
     },
     "execution_count": 35,
     "metadata": {},
     "output_type": "execute_result"
    }
   ],
   "source": [
    "areIdentical(n1, n3)"
   ]
  },
  {
   "cell_type": "code",
   "execution_count": 36,
   "metadata": {},
   "outputs": [],
   "source": [
    "def invertTree(root):\n",
    "    \n",
    "    def invertUtil(node):\n",
    "        if node == None:\n",
    "            return \n",
    "        if node.left:\n",
    "            invertUtil(node.left)\n",
    "        if node.right:\n",
    "            invertUtil(node.right)\n",
    "            \n",
    "        temp = node.left\n",
    "        node.left = node.right\n",
    "        node.right = temp\n",
    "        return node\n",
    "    invertUtil(root)\n",
    "    \n",
    "invertTree(n1)"
   ]
  },
  {
   "cell_type": "code",
   "execution_count": 37,
   "metadata": {},
   "outputs": [
    {
     "name": "stdout",
     "output_type": "stream",
     "text": [
      "Preorder: [1, 3, 2, 5, 7, 6, 4]\n",
      "Inorder:  [3, 1, 7, 5, 6, 2, 4]\n",
      "Postorder:  [3, 7, 6, 5, 4, 2, 1]\n"
     ]
    }
   ],
   "source": [
    "allTraversal(n1)"
   ]
  },
  {
   "cell_type": "code",
   "execution_count": 53,
   "metadata": {},
   "outputs": [
    {
     "name": "stdout",
     "output_type": "stream",
     "text": [
      "0 6\n",
      "0 4\n",
      "0 0\n",
      "0 -1\n",
      "1 0\n",
      "2 4\n",
      "2 2\n",
      "2 1\n",
      "3 2\n",
      "4 4\n",
      "4 3\n",
      "5 4\n",
      "6 6\n",
      "6 5\n",
      "7 6\n"
     ]
    }
   ],
   "source": [
    "'''\n",
    "code to convert inorder, preorder\n",
    "to a Tree\n",
    "'''\n",
    "\n",
    "def constructTree(inorder, preorder):\n",
    "    \n",
    "    d = {}\n",
    "    for i, e in enumerate(inorder):\n",
    "        d[e] = i\n",
    "        \n",
    "    pIndex = 0\n",
    "    \n",
    "    def construct(start, end):\n",
    "        \n",
    "        nonlocal pIndex\n",
    "        \n",
    "        print(start, end)\n",
    "        if start > end:\n",
    "            return None\n",
    "        \n",
    "#         print(pIndex)\n",
    "        root = Node(preorder[pIndex])\n",
    "        pIndex += 1\n",
    "        \n",
    "        m = d[root.val]\n",
    "        root.left = construct(start, m-1)\n",
    "        root.right = construct(m+1, end)\n",
    "        \n",
    "        return root\n",
    "    \n",
    "    ans = construct(0, len(inorder)-1)\n",
    "    return ans\n",
    "    \n",
    "(preorder_array, inorder_array, postorder_array) = allTraversal(n1)\n",
    "\n",
    "ans = constructTree(inorder_array, preorder_array)     "
   ]
  },
  {
   "cell_type": "code",
   "execution_count": 54,
   "metadata": {},
   "outputs": [
    {
     "data": {
      "text/plain": [
       "([1, 2, 4, 5, 6, 7, 3], [4, 2, 6, 5, 7, 1, 3], [4, 6, 7, 5, 2, 3, 1])"
      ]
     },
     "execution_count": 54,
     "metadata": {},
     "output_type": "execute_result"
    }
   ],
   "source": [
    "allTraversal(ans)"
   ]
  },
  {
   "cell_type": "code",
   "execution_count": 55,
   "metadata": {},
   "outputs": [
    {
     "data": {
      "text/plain": [
       "([1, 2, 4, 5, 6, 7, 3], [4, 2, 6, 5, 7, 1, 3], [4, 6, 7, 5, 2, 3, 1])"
      ]
     },
     "execution_count": 55,
     "metadata": {},
     "output_type": "execute_result"
    }
   ],
   "source": [
    "allTraversal(n1)"
   ]
  },
  {
   "cell_type": "code",
   "execution_count": 1,
   "metadata": {},
   "outputs": [],
   "source": []
  },
  {
   "cell_type": "code",
   "execution_count": 39,
   "metadata": {},
   "outputs": [
    {
     "name": "stdout",
     "output_type": "stream",
     "text": [
      "[4, 7, 8, 8, 8, 8] [7, 4, 8, 8, 8, 8] [7, 8, 8, 8, 8, 4]\n",
      "[23, 7, 16, 8, 8, 8] [7, 23, 8, 8, 16, 8] [7, 8, 8, 8, 16, 23]\n"
     ]
    }
   ],
   "source": [
    "(preorder_array, inorder_array, postorder_array) = allTraversal(n4)\n",
    "print(preorder_array, inorder_array, postorder_array)\n",
    "childrenSum(n4)\n",
    "(preorder_array, inorder_array, postorder_array) = allTraversal(n4)\n",
    "print(preorder_array, inorder_array, postorder_array)"
   ]
  },
  {
   "cell_type": "code",
   "execution_count": 33,
   "metadata": {},
   "outputs": [
    {
     "name": "stdout",
     "output_type": "stream",
     "text": [
      "[4, 7, 8, 1, 3, 0] [7, 4, 3, 1, 8, 0] [7, 3, 1, 0, 8, 4]\n"
     ]
    }
   ],
   "source": []
  },
  {
   "cell_type": "code",
   "execution_count": 32,
   "metadata": {},
   "outputs": [],
   "source": []
  },
  {
   "cell_type": "code",
   "execution_count": 54,
   "metadata": {},
   "outputs": [],
   "source": [
    "n0 = Node(0)\n",
    "n1 = Node(1)\n",
    "n4 = Node(4)\n",
    "n7 = Node(7)\n",
    "n8 = Node(8)\n",
    "n3 = Node(3)\n",
    "\n",
    "n4.left = n7\n",
    "n4.right = n8\n",
    "n8.left = n1\n",
    "n8.right = n0\n",
    "n1.left = n3"
   ]
  },
  {
   "cell_type": "code",
   "execution_count": 23,
   "metadata": {},
   "outputs": [
    {
     "name": "stdout",
     "output_type": "stream",
     "text": [
      "7\n",
      "2\n",
      "6\n",
      "3\n",
      "4\n",
      "9\n"
     ]
    }
   ],
   "source": [
    "iterr = n7\n",
    "while iterr:\n",
    "    print(iterr.val)\n",
    "    iterr = iterr.right"
   ]
  },
  {
   "cell_type": "code",
   "execution_count": 74,
   "metadata": {},
   "outputs": [],
   "source": [
    "def boundary(root): \n",
    "    res = []\n",
    "    def isLeaf(node):\n",
    "        return (not node.left and not node.right)\n",
    "    \n",
    "    def getLeftBoundary(root):\n",
    "        curr = root.left\n",
    "        nonlocal res\n",
    "        while(curr):\n",
    "            if not isLeaf(curr):\n",
    "                res.append(curr.val)\n",
    "            if curr.left:\n",
    "                curr = curr.left\n",
    "            else:\n",
    "                curr = curr.right\n",
    "    \n",
    "    def getRightBoundary(root):\n",
    "        right = []\n",
    "        curr = root.right\n",
    "        while(curr):\n",
    "            if not isLeaf(curr):\n",
    "                right.append(curr.val)\n",
    "            if curr.right:\n",
    "                curr = curr.right\n",
    "            else:\n",
    "                curr = curr.left\n",
    "                \n",
    "        for i in range(len(right)-1, -1, -1):\n",
    "            res.append(right[i])\n",
    "                \n",
    "                \n",
    "    def getLeaves(root):\n",
    "        nonlocal res\n",
    "        if isLeaf(root):\n",
    "            res.append(root.val)\n",
    "            return\n",
    "        \n",
    "        if root.left:\n",
    "            getLeaves(root.left)\n",
    "            \n",
    "        if root.right:\n",
    "            getLeaves(root.right)\n",
    "            \n",
    "            \n",
    "    if root == None:\n",
    "        return\n",
    "    if not isLeaf(root):\n",
    "        res.append(root.val)\n",
    "        \n",
    "    getLeftBoundary(root)\n",
    "    getLeaves(root)\n",
    "    getRightBoundary(root)\n",
    "    \n",
    "            \n",
    "    \n",
    "            \n",
    "        \n",
    "    print(res)"
   ]
  },
  {
   "cell_type": "code",
   "execution_count": 76,
   "metadata": {},
   "outputs": [
    {
     "name": "stdout",
     "output_type": "stream",
     "text": [
      "[1, 2, 3, 4, 5, 6, 10, 11, 9, 8, 7]\n"
     ]
    }
   ],
   "source": [
    "n1 = Node(1)\n",
    "n2 = Node(2)\n",
    "n3 = Node(3)\n",
    "n4 = Node(4)\n",
    "n5 = Node(5)\n",
    "n6 = Node(6)\n",
    "n7 = Node(7)\n",
    "n8 = Node(8)\n",
    "n9 = Node(9)\n",
    "n10 = Node(10)\n",
    "n11 = Node(11)\n",
    "\n",
    "\n",
    "n1.left = n2\n",
    "n1.right = n7\n",
    "n2.left = n3\n",
    "n3.right = n4\n",
    "n4.left = n5\n",
    "n4.right = n6\n",
    "n7.right = n8\n",
    "n8.left = n9\n",
    "n9.left = n10\n",
    "n9.right = n11\n",
    "\n",
    "boundary(n1)"
   ]
  },
  {
   "cell_type": "code",
   "execution_count": 83,
   "metadata": {},
   "outputs": [
    {
     "data": {
      "text/plain": [
       "[[3, 5], [2, 4], [1, 6, 10], [7, 9], [8, 11]]"
      ]
     },
     "execution_count": 83,
     "metadata": {},
     "output_type": "execute_result"
    }
   ],
   "source": [
    "verticalOrder(n1)"
   ]
  },
  {
   "cell_type": "code",
   "execution_count": 84,
   "metadata": {},
   "outputs": [
    {
     "data": {
      "text/plain": [
       "([1, 2, 3, 4, 5, 6, 7, 8, 9, 10, 11],\n",
       " [3, 5, 4, 6, 2, 1, 7, 10, 9, 11, 8],\n",
       " [5, 6, 4, 3, 2, 10, 11, 9, 8, 7, 1])"
      ]
     },
     "execution_count": 84,
     "metadata": {},
     "output_type": "execute_result"
    }
   ],
   "source": [
    "allTraversal(n1)"
   ]
  },
  {
   "cell_type": "code",
   "execution_count": 4,
   "metadata": {},
   "outputs": [
    {
     "data": {
      "text/plain": [
       "8"
      ]
     },
     "execution_count": 4,
     "metadata": {},
     "output_type": "execute_result"
    }
   ],
   "source": [
    "widthOfTree(n1)"
   ]
  },
  {
   "cell_type": "code",
   "execution_count": 17,
   "metadata": {},
   "outputs": [],
   "source": [
    "'''\n",
    "https://www.interviewbit.com/old/problems/sum-root-to-leaf-numbers/\n",
    "'''\n",
    "\n",
    "def rootToLeaf(root):\n",
    "    \n",
    "    def util(node, val):\n",
    "        if node == None:\n",
    "            return 0\n",
    "\n",
    "        val = val*10 + node.val\n",
    "\n",
    "        if not node.left and not node.right:\n",
    "            return val\n",
    "\n",
    "        return util(node.left, val) + util(node.right, val)\n",
    "        \n",
    "    return util(root, 0)"
   ]
  },
  {
   "cell_type": "code",
   "execution_count": 27,
   "metadata": {},
   "outputs": [],
   "source": [
    "n7 = Node(7)\n",
    "n2 = Node(2)\n",
    "n3 = Node(3)\n",
    "n6 = Node(6)\n",
    "n4 = Node(4)\n",
    "n9 = Node(9)\n",
    "\n",
    "n7.left = n2\n",
    "n7.right = n3\n",
    "n2.left = n6\n",
    "n3.left = n4\n",
    "n3.right = n9\n",
    "\n",
    "# print(rootToLeaf(n7))"
   ]
  },
  {
   "cell_type": "code",
   "execution_count": 31,
   "metadata": {},
   "outputs": [],
   "source": [
    "def findAllPaths(root, target):\n",
    "    ans = []\n",
    "    def util(node,target, ans):\n",
    "        if node == None:\n",
    "            return False\n",
    "        if node.right == None and node.left == None:\n",
    "            if node.val == target:\n",
    "                ans.append(node.val)\n",
    "                return True\n",
    "            \n",
    "        if (node.right and util(node.right, target-node.val, ans)) or (node.left and util(node.left, target-node.val, ans)):\n",
    "            ans.append(node.val)\n",
    "            return True\n",
    "            \n",
    "            \n",
    "        return False\n",
    "    \n",
    "    util(root, target, ans)\n",
    "    return ans\n",
    "            "
   ]
  },
  {
   "cell_type": "code",
   "execution_count": 33,
   "metadata": {},
   "outputs": [
    {
     "data": {
      "text/plain": [
       "[6, 2, 7]"
      ]
     },
     "execution_count": 33,
     "metadata": {},
     "output_type": "execute_result"
    }
   ],
   "source": [
    "findAllPaths(n7, 15)"
   ]
  },
  {
   "cell_type": "code",
   "execution_count": 14,
   "metadata": {},
   "outputs": [
    {
     "name": "stdout",
     "output_type": "stream",
     "text": [
      "11.0\n",
      "3.0\n",
      "8.666666666666666\n",
      "8.0\n",
      "13.0\n",
      "12.0\n",
      "0\n"
     ]
    }
   ],
   "source": [
    "class Node:\n",
    "    def __init__(self, val):\n",
    "        self.val = val\n",
    "        self.left = None\n",
    "        self.right = None\n",
    "n20 = Node(20)\n",
    "n12 = Node(12)\n",
    "n18 = Node(18)\n",
    "n11 = Node(11)\n",
    "n3 = Node(3)\n",
    "n15 = Node(15)\n",
    "n8 = Node(8)\n",
    "\n",
    "n20.left = n12\n",
    "n20.right = n18\n",
    "n12.left = n11\n",
    "n12.right = n3\n",
    "n18.leftt = n15\n",
    "n18.right = n8\n",
    "def maxAverageTree(root):\n",
    "    val = 0\n",
    "    def util(node, ans):\n",
    "        if node == None:\n",
    "            return (0, 0)\n",
    "        \n",
    "        lhs = util(node.left, ans)\n",
    "        rhs = util(node.right, ans)\n",
    "        \n",
    "        ans = max(ans, (lhs[0]+rhs[0]+node.val) / (lhs[1]+rhs[1]+1))\n",
    "        print(ans)\n",
    "        \n",
    "        return (lhs[0]+rhs[0]+node.val, lhs[1]+rhs[1]+1)\n",
    "    \n",
    "    \n",
    "    util(root, val)\n",
    "    return val\n",
    "\n",
    "print(maxAverageTree(n20))\n",
    "    \n",
    "        \n",
    "        "
   ]
  },
  {
   "cell_type": "code",
   "execution_count": 15,
   "metadata": {},
   "outputs": [
    {
     "name": "stdout",
     "output_type": "stream",
     "text": [
      "3.0\n",
      "8.0\n",
      "5.333333333333333\n",
      "0\n"
     ]
    }
   ],
   "source": [
    "n1 = Node(5)\n",
    "n2 = Node(3)\n",
    "n3 = Node(8)\n",
    "\n",
    "n1.left = n2\n",
    "n1.right = n3\n",
    "print(maxAverageTree(n1))"
   ]
  },
  {
   "cell_type": "code",
   "execution_count": 22,
   "metadata": {},
   "outputs": [],
   "source": [
    "def isSafe(grid, i, j):\n",
    "    if i < 0 or i >= len(grid) or j < 0 or j >= len(grid[0]) or grid[i][j] != 1:\n",
    "        return False\n",
    "    return True\n",
    "\n",
    "def dfs(grid, i, j, count):\n",
    "    \n",
    "    grid[i][j] = \"#\"\n",
    "    rowNbr = [-1, -1, -1, 0, 0, 1, 1, 1]\n",
    "    colNbr = [-1, 0, 1, -1, 1, -1, 0, 1]\n",
    "    \n",
    "    for k in range(8):\n",
    "        if isSafe(grid, rowNbr[k]+i, colNbr[k]+j):\n",
    "            count[0] += 1\n",
    "            dfs(grid, rowNbr[k]+i, colNbr[k]+j, count)\n",
    "\n",
    "    \n",
    "def main_func(grid):\n",
    "    ans = float(\"-inf\")\n",
    "    \n",
    "    \n",
    "    \n",
    "    for i in range(len(grid)):\n",
    "        for j in range(len(grid[0])):\n",
    "            if grid[i][j] == 1:\n",
    "                val = [1]\n",
    "                dfs(grid, i, j, val)\n",
    "                ans = max(ans, val[0])\n",
    "                \n",
    "                \n",
    "    return ans\n",
    "    \n",
    "    "
   ]
  },
  {
   "cell_type": "code",
   "execution_count": 23,
   "metadata": {},
   "outputs": [
    {
     "name": "stdout",
     "output_type": "stream",
     "text": [
      "6\n"
     ]
    }
   ],
   "source": [
    "M = [[0, 0, 1, 1, 0],\n",
    "     [1, 0, 1, 1, 0],\n",
    "     [0, 1, 0, 0, 0],\n",
    "     [0, 0, 0, 0, 1]]\n",
    "\n",
    "print(main_func(M))"
   ]
  },
  {
   "cell_type": "code",
   "execution_count": 27,
   "metadata": {},
   "outputs": [
    {
     "data": {
      "text/plain": [
       "2"
      ]
     },
     "execution_count": 27,
     "metadata": {},
     "output_type": "execute_result"
    }
   ],
   "source": []
  },
  {
   "cell_type": "code",
   "execution_count": null,
   "metadata": {},
   "outputs": [],
   "source": []
  }
 ],
 "metadata": {
  "kernelspec": {
   "display_name": "Python 3 (ipykernel)",
   "language": "python",
   "name": "python3"
  },
  "language_info": {
   "codemirror_mode": {
    "name": "ipython",
    "version": 3
   },
   "file_extension": ".py",
   "mimetype": "text/x-python",
   "name": "python",
   "nbconvert_exporter": "python",
   "pygments_lexer": "ipython3",
   "version": "3.7.3"
  }
 },
 "nbformat": 4,
 "nbformat_minor": 2
}
