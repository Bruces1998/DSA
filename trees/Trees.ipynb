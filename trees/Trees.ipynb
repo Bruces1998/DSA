{
 "cells": [
  {
   "cell_type": "code",
   "execution_count": 6,
   "metadata": {},
   "outputs": [],
   "source": [
    "def maxPathSum(root):\n",
    "    ans = float(\"-inf\")\n",
    "    \n",
    "    def mpsUtil(node):\n",
    "        nonlocal ans\n",
    "        if node == None:\n",
    "            return 0\n",
    "        \n",
    "        max_from_left = max(mpsUtil(node.left), 0)\n",
    "        max_from_right = max(mpsUtil(node.right), 0)\n",
    "        \n",
    "        ans = max(ans, max_from_left + node.val + max_from_right)\n",
    "        return node.val + max(max_from_left, max_from_right)\n",
    "    \n",
    "    mpsUtil(root)\n",
    "    return ans\n",
    "    \n",
    "    "
   ]
  },
  {
   "cell_type": "code",
   "execution_count": 8,
   "metadata": {},
   "outputs": [],
   "source": [
    "class Node:\n",
    "    def __init__(self, val):\n",
    "        self.val = val\n",
    "        self.right = None\n",
    "        self.left = None\n",
    "        \n",
    "        \n",
    "n1 = Node(-10)\n",
    "n2 = Node(9)\n",
    "n3 = Node(20)\n",
    "n4 = Node(15)\n",
    "n5 = Node(7)\n",
    "\n",
    "n1.left = n2\n",
    "n1.right = n3\n",
    "n3.left = n4\n",
    "n3.right = n5\n",
    "\n",
    "        "
   ]
  },
  {
   "cell_type": "code",
   "execution_count": 9,
   "metadata": {},
   "outputs": [
    {
     "data": {
      "text/plain": [
       "42"
      ]
     },
     "execution_count": 9,
     "metadata": {},
     "output_type": "execute_result"
    }
   ],
   "source": [
    "maxPathSum(n1)"
   ]
  },
  {
   "cell_type": "code",
   "execution_count": 10,
   "metadata": {},
   "outputs": [],
   "source": [
    "def balancedTree(root):\n",
    "    \n",
    "    def someFunction(node):\n",
    "        if node == None:\n",
    "            return 0\n",
    "        \n",
    "        leftSide = someFunction(node.left)\n",
    "        if leftSide == -1:\n",
    "            return -1\n",
    "        \n",
    "        rightSide = someFunction(node.right)\n",
    "        if rightSide == -1:\n",
    "            return -1\n",
    "        \n",
    "        if abs(leftSide - rightSide)>1:\n",
    "            return -1\n",
    "        \n",
    "        return 1 + max(leftSide, rightSide)\n",
    "    \n",
    "    if someFunction(root) == -1:\n",
    "        return False\n",
    "    return True\n",
    "\n"
   ]
  },
  {
   "cell_type": "code",
   "execution_count": 12,
   "metadata": {},
   "outputs": [
    {
     "data": {
      "text/plain": [
       "True"
      ]
     },
     "execution_count": 12,
     "metadata": {},
     "output_type": "execute_result"
    }
   ],
   "source": [
    "n1 = Node(-10)\n",
    "n2 = Node(9)\n",
    "n3 = Node(20)\n",
    "n4 = Node(15)\n",
    "n5 = Node(7)\n",
    "n6 = Node(7)\n",
    "n7 = Node(7)\n",
    "\n",
    "\n",
    "n1.left = n2\n",
    "n1.right = n3\n",
    "n3.left = n4\n",
    "n3.right = n5\n",
    "# n4.left = n6\n",
    "# n4.right = n7\n",
    "\n",
    "balancedTree(n1)"
   ]
  },
  {
   "cell_type": "code",
   "execution_count": null,
   "metadata": {},
   "outputs": [],
   "source": []
  }
 ],
 "metadata": {
  "kernelspec": {
   "display_name": "Python 3",
   "language": "python",
   "name": "python3"
  },
  "language_info": {
   "codemirror_mode": {
    "name": "ipython",
    "version": 3
   },
   "file_extension": ".py",
   "mimetype": "text/x-python",
   "name": "python",
   "nbconvert_exporter": "python",
   "pygments_lexer": "ipython3",
   "version": "3.7.3"
  }
 },
 "nbformat": 4,
 "nbformat_minor": 2
}
