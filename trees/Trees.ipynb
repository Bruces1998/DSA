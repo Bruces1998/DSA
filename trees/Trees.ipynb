{
 "cells": [
  {
   "cell_type": "code",
   "execution_count": 1,
   "metadata": {},
   "outputs": [],
   "source": [
    "#inorder-preorder-postorder\n",
    "def inorder(node, arr):\n",
    "    if node!=None:\n",
    "        inorder(node.left, arr)\n",
    "        arr.append(node.val)\n",
    "        inorder(node.right, arr)\n",
    "\n",
    "def preorder(node, arr):\n",
    "    if node!=None:\n",
    "        arr.append(node.val)\n",
    "        preorder(node.left, arr)\n",
    "        preorder(node.right, arr)\n",
    "\n",
    "def postorder(node, arr):\n",
    "    if node:\n",
    "        postorder(node.val, arr)\n",
    "        postorder(node.val, arr)\n",
    "        arr.append(node.val)\n",
    "        \n",
    "\n",
    "### Time Complexity ###\n",
    "'''\n",
    "TC = O(n) because each node is visited exactly once\n",
    "Space = O(n) because of the recursion stack can hold all \n",
    "        nodes in a skewed tree\n",
    "'''"
   ]
  },
  {
   "cell_type": "code",
   "execution_count": null,
   "metadata": {},
   "outputs": [],
   "source": [
    "### Iterative Pre-post-inorder ###\n",
    "\n",
    "def preorder(node):\n",
    "    ans = []\n",
    "    stack = [node]\n",
    "\n",
    "    while stack:\n",
    "        node = stack.pop()\n",
    "        if node:\n",
    "            ans.append(node.val)\n",
    "            stack.append(node.left)\n",
    "            stack.append(node.right)\n",
    "\n",
    "    return ans\n",
    "\n",
    "def postorder(node):\n",
    "    ans = []\n",
    "    stack = []\n",
    "\n",
    "    while stack:\n",
    "        node = stack.pop()\n",
    "        if node:\n",
    "            stack.append"
   ]
  },
  {
   "cell_type": "code",
   "execution_count": null,
   "metadata": {},
   "outputs": [],
   "source": [
    "'''\n",
    "Morris Inorder Traversal \n",
    "'''\n",
    "\n",
    "def inorder(root):\n",
    "    arr = []\n",
    "    curr = root\n",
    "\n",
    "    while curr:\n",
    "        if curr.left == None:\n",
    "            arr.appned(curr.val)\n",
    "            curr = curr.right\n",
    "        \n",
    "        else:\n",
    "            prev = curr.left\n",
    "            while prev.right != None and prev.right != curr:\n",
    "                prev = prev = prev.right\n",
    "\n",
    "            if prev.right == None:\n",
    "                prev.right = curr\n",
    "                curr = curr.left\n",
    "            else:\n",
    "                prev.right = None\n",
    "                arr.append(curr.val)\n",
    "                curr = curr.right\n",
    "    return arr\n",
    "\n"
   ]
  },
  {
   "cell_type": "markdown",
   "metadata": {},
   "source": []
  },
  {
   "cell_type": "code",
   "execution_count": 3,
   "metadata": {},
   "outputs": [],
   "source": [
    "'''\n",
    "Left and Right View\n",
    "of the Binary tree\n",
    "'''\n",
    "def leftView(root):\n",
    "    \n",
    "    def util(node, level, res):\n",
    "        if node == None:\n",
    "            return\n",
    "        if level == len(res):\n",
    "            res.append(node.val)\n",
    "            \n",
    "        util(node.left, level+1, res)\n",
    "        util(node.right, level+1, res)\n",
    "        \n",
    "    result = []\n",
    "    util(root, 0, result)\n",
    "    return result\n",
    "\n",
    "def rightView(root):\n",
    "    \n",
    "    def util(node, level, res):\n",
    "        if node == None:\n",
    "            return\n",
    "        \n",
    "        if level == len(res):\n",
    "            res.append(node.val)\n",
    "            \n",
    "        util(node.right, level+1, res)\n",
    "        util(node.left, level+1, res)\n",
    "        \n",
    "    result = []\n",
    "    util(root, 0, result)\n",
    "    return result"
   ]
  },
  {
   "cell_type": "code",
   "execution_count": null,
   "metadata": {},
   "outputs": [],
   "source": []
  },
  {
   "cell_type": "code",
   "execution_count": null,
   "metadata": {},
   "outputs": [],
   "source": [
    "'''\n",
    "The function performs all\n",
    "the three types of tree \n",
    "traversals using a single \n",
    "traversal.\n",
    "''' \n",
    "def allTraversal(root):\n",
    "    inorder_array = []\n",
    "    preorder_array = []\n",
    "    postorder_array = []\n",
    "    \n",
    "    def util(node):\n",
    "        if node == None:\n",
    "            return\n",
    "        preorder_array.append(node.val)\n",
    "        util(node.left)\n",
    "        inorder_array.append(node.val)\n",
    "        util(node.right)\n",
    "        postorder_array.append(node.val)\n",
    "    util(root)\n",
    "    return (preorder_array, inorder_array, postorder_array)"
   ]
  },
  {
   "cell_type": "code",
   "execution_count": 4,
   "metadata": {},
   "outputs": [],
   "source": [
    "#vertical order traversal\n",
    "from collections import defaultdict\n",
    "def verticalOrder(root):\n",
    "    g = defaultdict(list)\n",
    "    queue = [(root, 0)]\n",
    "    \n",
    "    while queue:\n",
    "        new = []\n",
    "        d = defaultdict(list)\n",
    "        for node, s in queue:\n",
    "            d[s].append(node.val)\n",
    "            if node.left:\n",
    "                new.append((node.left, s-1))\n",
    "            if node.right:\n",
    "                new.append((node.right, s+1))\n",
    "        \n",
    "        for i in d:\n",
    "            g[i].extend(sorted(d[i]))\n",
    "        queue = new\n",
    "        \n",
    "    return [g[i] for i in sorted(g)]\n",
    "                \n",
    "              "
   ]
  },
  {
   "cell_type": "markdown",
   "metadata": {},
   "source": [
    "def verticalOrderTraversal(root):\n",
    "\n",
    "    queue = [(root, 0)]\n",
    "    while queue:\n",
    "        next_queue = []\n",
    "        ans = {}\n",
    "\n",
    "        for node, level in queue:\n",
    "            ans[level].append(node.val)\n",
    "            if node.left:\n",
    "                next_queue.append((node.left, level - 1))\n",
    "            \n",
    "            if node.right:\n",
    "                next_queue.append((node.right, level + 1))\n",
    "\n",
    "            for i in ans:\n",
    "                main_ans[i].extend(d[i])\n",
    "            queue = new\n",
    "    \n",
    "    return [g[i] for i in  sorted(g)]"
   ]
  },
  {
   "cell_type": "code",
   "execution_count": 5,
   "metadata": {},
   "outputs": [],
   "source": [
    "def widthOfTree(root):\n",
    "    if not root:\n",
    "        return 0\n",
    "    \n",
    "    ans = 0\n",
    "    queue = [(root, 0)]\n",
    "    \n",
    "    while queue:\n",
    "        size = len(queue)\n",
    "        currMin = queue[0][1]\n",
    "        leftMost = 0\n",
    "        rightMost = 0\n",
    "        \n",
    "        for i in range(size):\n",
    "            currNode, currId = queue.pop(0)\n",
    "            currId = currId - currMin\n",
    "            \n",
    "            if i == 0:\n",
    "                leftMost = currId\n",
    "            if i == size - 1:\n",
    "                rightMost = currId\n",
    "                \n",
    "            if currNode.left:\n",
    "                queue.append((currNode.left, currId*2 +1))\n",
    "            if currNode.right:\n",
    "                queue.append((currNode.right, currId*2 + 2))\n",
    "                \n",
    "        ans = max(ans, rightMost - leftMost + 1)\n",
    "        \n",
    "    return ans"
   ]
  },
  {
   "cell_type": "code",
   "execution_count": 6,
   "metadata": {},
   "outputs": [],
   "source": [
    "def printPath(root, target):\n",
    "    ans = []\n",
    "    def util(node, ans):\n",
    "        print(ans)\n",
    "        if node == None:\n",
    "            return False\n",
    "        if node.val == target:\n",
    "            ans.append(node.val)\n",
    "            return True\n",
    "        if util(node.left, ans) or util(node.right, ans):\n",
    "            ans.append(node.val)\n",
    "            return True\n",
    "        return False\n",
    "    util(n1, ans)\n",
    "    return ans[::-1]\n"
   ]
  },
  {
   "cell_type": "code",
   "execution_count": null,
   "metadata": {},
   "outputs": [],
   "source": [
    "def levelOrderTraversal(root):\n",
    "    if root == None:\n",
    "        return []\n",
    "    \n",
    "    global_ans = []\n",
    "    global_queue = [root]\n",
    "    \n",
    "    while global_queue:\n",
    "        curr_ans = []\n",
    "        next_queue = []\n",
    "        \n",
    "        while global_queue:\n",
    "            curr_node = global_queue.pop(0)\n",
    "            curr_ans.append(curr_node.val)\n",
    "            \n",
    "            if curr_node.right:\n",
    "                next_queue.append(curr_node.right)\n",
    "                \n",
    "            if curr_node.left:\n",
    "                next_queue.append(curr_node.left)\n",
    "                \n",
    "            \n",
    "                \n",
    "        global_ans.append(curr_ans)\n",
    "        global_queue = next_queue\n",
    "        \n",
    "    return global_ans\n",
    "    "
   ]
  },
  {
   "cell_type": "code",
   "execution_count": null,
   "metadata": {},
   "outputs": [],
   "source": [
    "'''\n",
    "Intuition: For any node, diameter is nothing but 1+ left_subtree height + right_subtree height\n",
    "Hence we have to find that\n",
    "'''\n",
    "def diameterOfTree(root):\n",
    "    ans = 0\n",
    "    def util(node):\n",
    "        nonlocal ans\n",
    "        if node == None:\n",
    "            return 0\n",
    "        lhs = 0\n",
    "        rhs = 0\n",
    "        if node.left:\n",
    "            lhs = util(node.left)+1\n",
    "        if node.right:\n",
    "            rhs = util(node.right)+1\n",
    "        ans = max(ans, lhs+rhs)\n",
    "        \n",
    "        return max(lhs, rhs)\n",
    "    util(root)\n",
    "    return ans"
   ]
  },
  {
   "cell_type": "code",
   "execution_count": null,
   "metadata": {},
   "outputs": [],
   "source": [
    "'''\n",
    "Height of Binary Tree\n",
    "'''\n",
    "def height(node):\n",
    "    if node == None:\n",
    "        return 0\n",
    "    lhs = height(node.left)\n",
    "    rhs = height(node.right)\n",
    "    \n",
    "    return max(lhs, rhs) + 1\n",
    "\n",
    "## Can also be solved using Level order traversal where we can store the level value"
   ]
  },
  {
   "cell_type": "code",
   "execution_count": null,
   "metadata": {},
   "outputs": [],
   "source": [
    "def parent(root):\n",
    "    def height_balanced(node):\n",
    "        if node == None:\n",
    "            return 0\n",
    "\n",
    "        lhs = height_balanced(node.left)\n",
    "        if lhs == -1:\n",
    "            return -1\n",
    "        rhs = height_balanced(node.right)\n",
    "        if rhs == -1:\n",
    "            return -1\n",
    "\n",
    "        if abs(lhs - rhs)>1:\n",
    "            return -1\n",
    "        return 1 + max(lhs, rhs)\n",
    "    \n",
    "    print(height_balanced(root))\n",
    "    if height_balanced(root) == -1:\n",
    "        return False\n",
    "    \n",
    "    return True\n",
    "\n",
    "\n",
    "### Time Complexity = O(n)\n",
    "### Space Complexity = log2N to N"
   ]
  },
  {
   "cell_type": "code",
   "execution_count": null,
   "metadata": {},
   "outputs": [],
   "source": [
    "def LCA(root, x, y):\n",
    "    if root == None or root == x or root == y:\n",
    "        return root\n",
    "    \n",
    "    left = LCA(root.left, x, y)\n",
    "    right = LCA(root.right, x, y)\n",
    "    \n",
    "    if left == None:\n",
    "        return right\n",
    "    elif right == None:\n",
    "        return left\n",
    "    else:\n",
    "        return root\n",
    "    \n",
    "print(LCA(n1, n3, n7).val)\n",
    "    "
   ]
  },
  {
   "cell_type": "code",
   "execution_count": null,
   "metadata": {},
   "outputs": [],
   "source": [
    "def areIdentical(root1, root2):\n",
    "    \n",
    "    def util(node1, node2):\n",
    "        if node1 == None and node2 == None:\n",
    "            return True\n",
    "        if node1 == None or node2 == None:\n",
    "            return False\n",
    "        \n",
    "        if node1.val != node2.val:\n",
    "            return False\n",
    "        \n",
    "        return util(node1.left, node2.left) and util(node1.right, node2.right)\n",
    "    \n",
    "    return util(root1, root2)"
   ]
  },
  {
   "cell_type": "code",
   "execution_count": 6,
   "metadata": {},
   "outputs": [],
   "source": [
    "def maxPathSum(root):\n",
    "    ans = float(\"-inf\")\n",
    "    \n",
    "    def mpsUtil(node):\n",
    "        nonlocal ans\n",
    "        if node == None:\n",
    "            return 0\n",
    "        \n",
    "        max_from_left = max(mpsUtil(node.left), 0)\n",
    "        max_from_right = max(mpsUtil(node.right), 0)\n",
    "        \n",
    "        ans = max(ans, max_from_left + node.val + max_from_right)\n",
    "        return node.val + max(max_from_left, max_from_right)\n",
    "    \n",
    "    mpsUtil(root)\n",
    "    return ans\n",
    "    \n",
    "    "
   ]
  },
  {
   "cell_type": "code",
   "execution_count": null,
   "metadata": {},
   "outputs": [],
   "source": [
    "'''\n",
    "check for symmetry\n",
    "'''\n",
    "\n",
    "def isSymmetric(root):\n",
    "    if not root:\n",
    "        return True\n",
    "    \n",
    "    def util(node1, node2):\n",
    "        if node1 == None and node2 == None:\n",
    "            return True\n",
    "        if node1 == None or node2 == None:\n",
    "            return False\n",
    "        \n",
    "        if node1.val != node2.val:\n",
    "            return False\n",
    "        \n",
    "        return util(node1.left, node2.right) and util(node1.right, node2.left)\n",
    "    \n",
    "    return util(root.left, root.right)"
   ]
  },
  {
   "cell_type": "code",
   "execution_count": null,
   "metadata": {},
   "outputs": [],
   "source": [
    "def flattenTree(root):\n",
    "\n",
    "    stack = [root]\n",
    "    while stack != []:\n",
    "        curr = stack.pop(-1)\n",
    "        \n",
    "        if curr.right:\n",
    "            stack.append(curr.right)\n",
    "            \n",
    "        if curr.left:\n",
    "            stack.append(curr.left)\n",
    "            \n",
    "        if stack != []:\n",
    "            curr.right = stack[-1]\n",
    "            \n",
    "        curr.left = None"
   ]
  },
  {
   "cell_type": "code",
   "execution_count": 10,
   "metadata": {},
   "outputs": [],
   "source": [
    "def balancedTree(root):\n",
    "    \n",
    "    def someFunction(node):\n",
    "        if node == None:\n",
    "            return 0\n",
    "        \n",
    "        leftSide = someFunction(node.left)\n",
    "        if leftSide == -1:\n",
    "            return -1\n",
    "        \n",
    "        rightSide = someFunction(node.right)\n",
    "        if rightSide == -1:\n",
    "            return -1\n",
    "        \n",
    "        if abs(leftSide - rightSide)>1:\n",
    "            return -1\n",
    "        \n",
    "        return 1 + max(leftSide, rightSide)\n",
    "    \n",
    "    if someFunction(root) == -1:\n",
    "        return False\n",
    "    return True\n",
    "\n"
   ]
  },
  {
   "cell_type": "code",
   "execution_count": 3,
   "metadata": {},
   "outputs": [],
   "source": [
    "### Children Sum Property ###\n",
    "\n",
    "def children_sum_property(root):\n",
    "    \"\"\" Change in-place \"\"\"\n",
    "\n",
    "    def util(node):\n",
    "        if node == None:\n",
    "            return \n",
    "        \n",
    "        child_sum = 0\n",
    "        if node.left:\n",
    "            child_sum += node.left.val\n",
    "        if node.right:\n",
    "            child_sum += node.right.val\n",
    "        \n",
    "        if child_sum >= node.val:\n",
    "            node.val = child_sum\n",
    "        \n",
    "        else:\n",
    "            if node.left:\n",
    "                node.left.val = node.val\n",
    "            elif node.right:\n",
    "                node.right.val = node.val\n",
    "        \n",
    "        util(node.left)\n",
    "        util(node.right)\n",
    "\n",
    "        final_sum = 0\n",
    "        if node.left:\n",
    "            final_sum += node.left.val\n",
    "        if node.right:\n",
    "            final_sum += node.right.val\n",
    "\n",
    "        if node.left or node.right:\n",
    "            node.val = final_sum\n",
    "\n",
    "    util(root)\n",
    "\n",
    "children_sum_property(n20)"
   ]
  },
  {
   "cell_type": "code",
   "execution_count": 4,
   "metadata": {},
   "outputs": [
    {
     "ename": "NameError",
     "evalue": "name 'inorder' is not defined",
     "output_type": "error",
     "traceback": [
      "\u001b[0;31m---------------------------------------------------------------------------\u001b[0m",
      "\u001b[0;31mNameError\u001b[0m                                 Traceback (most recent call last)",
      "Cell \u001b[0;32mIn[4], line 1\u001b[0m\n\u001b[0;32m----> 1\u001b[0m \u001b[43minorder\u001b[49m(n20)\n",
      "\u001b[0;31mNameError\u001b[0m: name 'inorder' is not defined"
     ]
    }
   ],
   "source": [
    "test = {1: [], 2: []"
   ]
  },
  {
   "cell_type": "markdown",
   "metadata": {},
   "source": []
  },
  {
   "cell_type": "code",
   "execution_count": 40,
   "metadata": {},
   "outputs": [
    {
     "data": {
      "text/plain": [
       "[[-10], [20, 9], [35, 15, 27, 25], [16, 12]]"
      ]
     },
     "execution_count": 40,
     "metadata": {},
     "output_type": "execute_result"
    }
   ],
   "source": [
    "### All nodes at a distance of k in binary tree ###\n",
    "\"\"\"\n",
    "Idea:\n",
    "We have to find all the nodes that are at a target of k from the from the given source node.\n",
    "Basically we can do a breadth first traversal of this tree by first converting it into a graph.\n",
    "The graph should ideally be bidirecitonal since we have to find all the nodes at k distance.\n",
    "\"\"\"\n",
    "class Solution:\n",
    "    def distanceK(self, root: TreeNode, target: TreeNode, k: int) -> List[int]:\n",
    "        \n",
    "        graph = dict()\n",
    "        visited = dict()\n",
    "        def inorder(node):\n",
    "            nonlocal graph\n",
    "            nonlocal visited\n",
    "\n",
    "            if not node:\n",
    "                return\n",
    "            if graph.get(node) is None:\n",
    "                graph[node] = []\n",
    "                visited[node] = 0\n",
    "            if node.left:\n",
    "                graph[node].append(node.left)\n",
    "                graph[node.left] = [node]\n",
    "                visited[node.left] = 0\n",
    "                inorder(node.left)\n",
    "            \n",
    "            if node.right:\n",
    "                graph[node].append(node.right)\n",
    "                graph[node.right] = [node]\n",
    "                visited[node.right] = 0\n",
    "                inorder(node.right)\n",
    "\n",
    "        inorder(root)\n",
    "        queue = [(target, 0)]\n",
    "        print([i.val for i in visited])\n",
    "        #ans = []\n",
    "        #visited = dict(i: 0 for i in graph)\n",
    "        while queue:\n",
    "            #print([i[0].val for i in queue])\n",
    "            curr, level = queue.pop(0)\n",
    "            if visited[curr] == 1:\n",
    "                continue\n",
    "            visited[curr] = 1\n",
    "            if level == k:\n",
    "                return [curr.val] + [ q[0].val for q in queue]\n",
    "            \n",
    "            for neigh in graph[curr]:\n",
    "                if visited[neigh] != 1:\n",
    "                    queue.append((neigh, level+1))\n",
    "        \n",
    "        return []"
   ]
  },
  {
   "cell_type": "code",
   "execution_count": 37,
   "metadata": {},
   "outputs": [],
   "source": [
    "'''\n",
    "Diagonal Traversal\n",
    "'''\n",
    "\n",
    "def diagonalTraversal(root):\n",
    "    global_ans = []\n",
    "    global_queue = [root]\n",
    "    \n",
    "    while global_queue:\n",
    "        next_queue = [] #traversal for the next diagonal\n",
    "        curr_ans = [] #storing ans for the current diagonal\n",
    "        while global_queue:\n",
    "            curr_node = global_queue.pop(0)\n",
    "            curr_ans.append(curr_node.val)\n",
    "            \n",
    "            if curr_node.left:\n",
    "                next_queue.append(curr_node.left)\n",
    "                \n",
    "            while curr_node.right:\n",
    "                curr_node = curr_node.right\n",
    "                curr_ans.append(curr_node.val)\n",
    "                if curr_node.left:\n",
    "                    next_queue.append(curr_node.left)\n",
    "                    \n",
    "            \n",
    "        global_queue = next_queue\n",
    "        global_ans.append(curr_ans)\n",
    "        \n",
    "    return global_ans\n",
    "                "
   ]
  },
  {
   "cell_type": "code",
   "execution_count": 38,
   "metadata": {},
   "outputs": [
    {
     "data": {
      "text/plain": [
       "[[-10, 20, 35], [9, 27, 15, 16], [25, 12]]"
      ]
     },
     "execution_count": 38,
     "metadata": {},
     "output_type": "execute_result"
    }
   ],
   "source": [
    "diagonalTraversal(n1)"
   ]
  },
  {
   "cell_type": "code",
   "execution_count": 4,
   "metadata": {},
   "outputs": [],
   "source": []
  },
  {
   "cell_type": "code",
   "execution_count": 5,
   "metadata": {},
   "outputs": [
    {
     "data": {
      "text/plain": [
       "[-10, 20, 35]"
      ]
     },
     "execution_count": 5,
     "metadata": {},
     "output_type": "execute_result"
    }
   ],
   "source": [
    "leftView(n1)\n",
    "rightView(n1)"
   ]
  },
  {
   "cell_type": "code",
   "execution_count": 2,
   "metadata": {},
   "outputs": [],
   "source": [
    "from collections import defaultdict\n",
    "def verticalOrder(root):\n",
    "    mapp = defaultdict(list)\n",
    "    def util(node, dist):\n",
    "        if node == None:\n",
    "            return None\n",
    "        \n",
    "        mapp[dist].append(node.val)\n",
    "        util(node.left, dist - 1)\n",
    "        util(node.right, dist + 1)\n",
    "        \n",
    "    util(root, 0)\n",
    "    \n",
    "    for keys in sorted(mapp.keys()):\n",
    "        print(mapp[keys])\n",
    "        \n",
    "        "
   ]
  },
  {
   "cell_type": "code",
   "execution_count": 4,
   "metadata": {},
   "outputs": [
    {
     "name": "stdout",
     "output_type": "stream",
     "text": [
      "[4]\n",
      "[2, 6]\n",
      "[1, 5]\n",
      "[7, 3]\n"
     ]
    }
   ],
   "source": [
    "verticalOrder(n1)"
   ]
  },
  {
   "cell_type": "code",
   "execution_count": 6,
   "metadata": {},
   "outputs": [
    {
     "data": {
      "text/plain": [
       "([1, 2, 4, 5, 6, 7, 3], [4, 2, 6, 5, 7, 1, 3], [4, 6, 7, 5, 2, 3, 1])"
      ]
     },
     "execution_count": 6,
     "metadata": {},
     "output_type": "execute_result"
    }
   ],
   "source": [
    "n1 = Node(1)\n",
    "n2 = Node(2)\n",
    "n3 = Node(3)\n",
    "n4 = Node(4)\n",
    "n5 = Node(5)\n",
    "n6 = Node(6)\n",
    "n7 = Node(7)\n",
    "\n",
    "n1.left = n2\n",
    "n1.right = n3\n",
    "n2.left = n4\n",
    "n2.right = n5\n",
    "n5.left = n6\n",
    "n5.right = n7\n",
    "\n",
    "allTraversal(n1)"
   ]
  },
  {
   "cell_type": "code",
   "execution_count": 24,
   "metadata": {},
   "outputs": [],
   "source": []
  },
  {
   "cell_type": "code",
   "execution_count": 25,
   "metadata": {},
   "outputs": [
    {
     "data": {
      "text/plain": [
       "3"
      ]
     },
     "execution_count": 25,
     "metadata": {},
     "output_type": "execute_result"
    }
   ],
   "source": [
    "height(n1)"
   ]
  },
  {
   "cell_type": "code",
   "execution_count": 33,
   "metadata": {},
   "outputs": [],
   "source": [
    "\n",
    "        "
   ]
  },
  {
   "cell_type": "code",
   "execution_count": 35,
   "metadata": {},
   "outputs": [
    {
     "data": {
      "text/plain": [
       "False"
      ]
     },
     "execution_count": 35,
     "metadata": {},
     "output_type": "execute_result"
    }
   ],
   "source": [
    "areIdentical(n1, n3)"
   ]
  },
  {
   "cell_type": "code",
   "execution_count": 36,
   "metadata": {},
   "outputs": [],
   "source": [
    "def invertTree(root):\n",
    "    \n",
    "    def invertUtil(node):\n",
    "        if node == None:\n",
    "            return \n",
    "        if node.left:\n",
    "            invertUtil(node.left)\n",
    "        if node.right:\n",
    "            invertUtil(node.right)\n",
    "            \n",
    "        temp = node.left\n",
    "        node.left = node.right\n",
    "        node.right = temp\n",
    "        return node\n",
    "    invertUtil(root)\n",
    "    \n",
    "invertTree(n1)"
   ]
  },
  {
   "cell_type": "code",
   "execution_count": 37,
   "metadata": {},
   "outputs": [
    {
     "name": "stdout",
     "output_type": "stream",
     "text": [
      "Preorder: [1, 3, 2, 5, 7, 6, 4]\n",
      "Inorder:  [3, 1, 7, 5, 6, 2, 4]\n",
      "Postorder:  [3, 7, 6, 5, 4, 2, 1]\n"
     ]
    }
   ],
   "source": [
    "allTraversal(n1)"
   ]
  },
  {
   "cell_type": "code",
   "execution_count": 53,
   "metadata": {},
   "outputs": [
    {
     "name": "stdout",
     "output_type": "stream",
     "text": [
      "0 6\n",
      "0 4\n",
      "0 0\n",
      "0 -1\n",
      "1 0\n",
      "2 4\n",
      "2 2\n",
      "2 1\n",
      "3 2\n",
      "4 4\n",
      "4 3\n",
      "5 4\n",
      "6 6\n",
      "6 5\n",
      "7 6\n"
     ]
    }
   ],
   "source": [
    "'''\n",
    "code to convert inorder, preorder\n",
    "to a Tree\n",
    "'''\n",
    "\n",
    "def constructTree(inorder, preorder):\n",
    "    \n",
    "    d = {}\n",
    "    for i, e in enumerate(inorder):\n",
    "        d[e] = i\n",
    "        \n",
    "    pIndex = 0\n",
    "    \n",
    "    def construct(start, end):\n",
    "        \n",
    "        nonlocal pIndex\n",
    "        \n",
    "        print(start, end)\n",
    "        if start > end:\n",
    "            return None\n",
    "        \n",
    "#         print(pIndex)\n",
    "        root = Node(preorder[pIndex])\n",
    "        pIndex += 1\n",
    "        \n",
    "        m = d[root.val]\n",
    "        root.left = construct(start, m-1)\n",
    "        root.right = construct(m+1, end)\n",
    "        \n",
    "        return root\n",
    "    \n",
    "    ans = construct(0, len(inorder)-1)\n",
    "    return ans\n",
    "    \n",
    "(preorder_array, inorder_array, postorder_array) = allTraversal(n1)\n",
    "\n",
    "ans = constructTree(inorder_array, preorder_array)     "
   ]
  },
  {
   "cell_type": "code",
   "execution_count": 54,
   "metadata": {},
   "outputs": [
    {
     "data": {
      "text/plain": [
       "([1, 2, 4, 5, 6, 7, 3], [4, 2, 6, 5, 7, 1, 3], [4, 6, 7, 5, 2, 3, 1])"
      ]
     },
     "execution_count": 54,
     "metadata": {},
     "output_type": "execute_result"
    }
   ],
   "source": [
    "allTraversal(ans)"
   ]
  },
  {
   "cell_type": "code",
   "execution_count": 55,
   "metadata": {},
   "outputs": [
    {
     "data": {
      "text/plain": [
       "([1, 2, 4, 5, 6, 7, 3], [4, 2, 6, 5, 7, 1, 3], [4, 6, 7, 5, 2, 3, 1])"
      ]
     },
     "execution_count": 55,
     "metadata": {},
     "output_type": "execute_result"
    }
   ],
   "source": [
    "allTraversal(n1)"
   ]
  },
  {
   "cell_type": "code",
   "execution_count": 1,
   "metadata": {},
   "outputs": [],
   "source": []
  },
  {
   "cell_type": "code",
   "execution_count": 39,
   "metadata": {},
   "outputs": [
    {
     "name": "stdout",
     "output_type": "stream",
     "text": [
      "[4, 7, 8, 8, 8, 8] [7, 4, 8, 8, 8, 8] [7, 8, 8, 8, 8, 4]\n",
      "[23, 7, 16, 8, 8, 8] [7, 23, 8, 8, 16, 8] [7, 8, 8, 8, 16, 23]\n"
     ]
    }
   ],
   "source": [
    "(preorder_array, inorder_array, postorder_array) = allTraversal(n4)\n",
    "print(preorder_array, inorder_array, postorder_array)\n",
    "childrenSum(n4)\n",
    "(preorder_array, inorder_array, postorder_array) = allTraversal(n4)\n",
    "print(preorder_array, inorder_array, postorder_array)"
   ]
  },
  {
   "cell_type": "code",
   "execution_count": 33,
   "metadata": {},
   "outputs": [
    {
     "name": "stdout",
     "output_type": "stream",
     "text": [
      "[4, 7, 8, 1, 3, 0] [7, 4, 3, 1, 8, 0] [7, 3, 1, 0, 8, 4]\n"
     ]
    }
   ],
   "source": []
  },
  {
   "cell_type": "code",
   "execution_count": 32,
   "metadata": {},
   "outputs": [],
   "source": []
  },
  {
   "cell_type": "code",
   "execution_count": 54,
   "metadata": {},
   "outputs": [],
   "source": [
    "n0 = Node(0)\n",
    "n1 = Node(1)\n",
    "n4 = Node(4)\n",
    "n7 = Node(7)\n",
    "n8 = Node(8)\n",
    "n3 = Node(3)\n",
    "\n",
    "n4.left = n7\n",
    "n4.right = n8\n",
    "n8.left = n1\n",
    "n8.right = n0\n",
    "n1.left = n3"
   ]
  },
  {
   "cell_type": "code",
   "execution_count": 23,
   "metadata": {},
   "outputs": [
    {
     "name": "stdout",
     "output_type": "stream",
     "text": [
      "7\n",
      "2\n",
      "6\n",
      "3\n",
      "4\n",
      "9\n"
     ]
    }
   ],
   "source": [
    "iterr = n7\n",
    "while iterr:\n",
    "    print(iterr.val)\n",
    "    iterr = iterr.right"
   ]
  },
  {
   "cell_type": "code",
   "execution_count": 74,
   "metadata": {},
   "outputs": [],
   "source": [
    "def boundary(root): \n",
    "    res = []\n",
    "    def isLeaf(node):\n",
    "        return (not node.left and not node.right)\n",
    "    \n",
    "    def getLeftBoundary(root):\n",
    "        curr = root.left\n",
    "        nonlocal res\n",
    "        while(curr):\n",
    "            if not isLeaf(curr):\n",
    "                res.append(curr.val)\n",
    "            if curr.left:\n",
    "                curr = curr.left\n",
    "            else:\n",
    "                curr = curr.right\n",
    "    \n",
    "    def getRightBoundary(root):\n",
    "        right = []\n",
    "        curr = root.right\n",
    "        while(curr):\n",
    "            if not isLeaf(curr):\n",
    "                right.append(curr.val)\n",
    "            if curr.right:\n",
    "                curr = curr.right\n",
    "            else:\n",
    "                curr = curr.left\n",
    "                \n",
    "        for i in range(len(right)-1, -1, -1):\n",
    "            res.append(right[i])\n",
    "                \n",
    "                \n",
    "    def getLeaves(root):\n",
    "        nonlocal res\n",
    "        if isLeaf(root):\n",
    "            res.append(root.val)\n",
    "            return\n",
    "        \n",
    "        if root.left:\n",
    "            getLeaves(root.left)\n",
    "            \n",
    "        if root.right:\n",
    "            getLeaves(root.right)\n",
    "            \n",
    "            \n",
    "    if root == None:\n",
    "        return\n",
    "    if not isLeaf(root):\n",
    "        res.append(root.val)\n",
    "        \n",
    "    getLeftBoundary(root)\n",
    "    getLeaves(root)\n",
    "    getRightBoundary(root)\n",
    "    \n",
    "            \n",
    "    \n",
    "            \n",
    "        \n",
    "    print(res)"
   ]
  },
  {
   "cell_type": "code",
   "execution_count": 76,
   "metadata": {},
   "outputs": [
    {
     "name": "stdout",
     "output_type": "stream",
     "text": [
      "[1, 2, 3, 4, 5, 6, 10, 11, 9, 8, 7]\n"
     ]
    }
   ],
   "source": [
    "n1 = Node(1)\n",
    "n2 = Node(2)\n",
    "n3 = Node(3)\n",
    "n4 = Node(4)\n",
    "n5 = Node(5)\n",
    "n6 = Node(6)\n",
    "n7 = Node(7)\n",
    "n8 = Node(8)\n",
    "n9 = Node(9)\n",
    "n10 = Node(10)\n",
    "n11 = Node(11)\n",
    "\n",
    "\n",
    "n1.left = n2\n",
    "n1.right = n7\n",
    "n2.left = n3\n",
    "n3.right = n4\n",
    "n4.left = n5\n",
    "n4.right = n6\n",
    "n7.right = n8\n",
    "n8.left = n9\n",
    "n9.left = n10\n",
    "n9.right = n11\n",
    "\n",
    "boundary(n1)"
   ]
  },
  {
   "cell_type": "code",
   "execution_count": 83,
   "metadata": {},
   "outputs": [
    {
     "data": {
      "text/plain": [
       "[[3, 5], [2, 4], [1, 6, 10], [7, 9], [8, 11]]"
      ]
     },
     "execution_count": 83,
     "metadata": {},
     "output_type": "execute_result"
    }
   ],
   "source": [
    "verticalOrder(n1)"
   ]
  },
  {
   "cell_type": "code",
   "execution_count": 84,
   "metadata": {},
   "outputs": [
    {
     "data": {
      "text/plain": [
       "([1, 2, 3, 4, 5, 6, 7, 8, 9, 10, 11],\n",
       " [3, 5, 4, 6, 2, 1, 7, 10, 9, 11, 8],\n",
       " [5, 6, 4, 3, 2, 10, 11, 9, 8, 7, 1])"
      ]
     },
     "execution_count": 84,
     "metadata": {},
     "output_type": "execute_result"
    }
   ],
   "source": [
    "allTraversal(n1)"
   ]
  },
  {
   "cell_type": "code",
   "execution_count": 4,
   "metadata": {},
   "outputs": [
    {
     "data": {
      "text/plain": [
       "8"
      ]
     },
     "execution_count": 4,
     "metadata": {},
     "output_type": "execute_result"
    }
   ],
   "source": [
    "widthOfTree(n1)"
   ]
  },
  {
   "cell_type": "code",
   "execution_count": 17,
   "metadata": {},
   "outputs": [],
   "source": [
    "'''\n",
    "https://www.interviewbit.com/old/problems/sum-root-to-leaf-numbers/\n",
    "'''\n",
    "\n",
    "def rootToLeaf(root):\n",
    "    \n",
    "    def util(node, val):\n",
    "        if node == None:\n",
    "            return 0\n",
    "\n",
    "        val = val*10 + node.val\n",
    "\n",
    "        if not node.left and not node.right:\n",
    "            return val\n",
    "\n",
    "        return util(node.left, val) + util(node.right, val)\n",
    "        \n",
    "    return util(root, 0)"
   ]
  },
  {
   "cell_type": "code",
   "execution_count": 27,
   "metadata": {},
   "outputs": [],
   "source": [
    "n7 = Node(7)\n",
    "n2 = Node(2)\n",
    "n3 = Node(3)\n",
    "n6 = Node(6)\n",
    "n4 = Node(4)\n",
    "n9 = Node(9)\n",
    "\n",
    "n7.left = n2\n",
    "n7.right = n3\n",
    "n2.left = n6\n",
    "n3.left = n4\n",
    "n3.right = n9\n",
    "\n",
    "# print(rootToLeaf(n7))"
   ]
  },
  {
   "cell_type": "code",
   "execution_count": 31,
   "metadata": {},
   "outputs": [],
   "source": [
    "def findAllPaths(root, target):\n",
    "    ans = []\n",
    "    def util(node,target, ans):\n",
    "        if node == None:\n",
    "            return False\n",
    "        if node.right == None and node.left == None:\n",
    "            if node.val == target:\n",
    "                ans.append(node.val)\n",
    "                return True\n",
    "            \n",
    "        if (node.right and util(node.right, target-node.val, ans)) or (node.left and util(node.left, target-node.val, ans)):\n",
    "            ans.append(node.val)\n",
    "            return True\n",
    "            \n",
    "            \n",
    "        return False\n",
    "    \n",
    "    util(root, target, ans)\n",
    "    return ans\n",
    "            "
   ]
  },
  {
   "cell_type": "code",
   "execution_count": 33,
   "metadata": {},
   "outputs": [
    {
     "data": {
      "text/plain": [
       "[6, 2, 7]"
      ]
     },
     "execution_count": 33,
     "metadata": {},
     "output_type": "execute_result"
    }
   ],
   "source": [
    "findAllPaths(n7, 15)"
   ]
  },
  {
   "cell_type": "code",
   "execution_count": 1,
   "metadata": {},
   "outputs": [
    {
     "name": "stdout",
     "output_type": "stream",
     "text": [
      "11.0\n",
      "3.0\n",
      "8.666666666666666\n",
      "8.0\n",
      "13.0\n",
      "12.0\n",
      "0\n"
     ]
    }
   ],
   "source": [
    "class Node:\n",
    "    def __init__(self, val):\n",
    "        self.val = val\n",
    "        self.left = None\n",
    "        self.right = None\n",
    "n20 = Node(20)\n",
    "n12 = Node(12)\n",
    "n18 = Node(18)\n",
    "n11 = Node(11)\n",
    "n3 = Node(3)\n",
    "n15 = Node(15)\n",
    "n8 = Node(8)\n",
    "\n",
    "n20.left = n12\n",
    "n20.right = n18\n",
    "n12.left = n11\n",
    "n12.right = n3\n",
    "n18.leftt = n15\n",
    "n18.right = n8\n",
    "def maxAverageTree(root):\n",
    "    val = 0\n",
    "    def util(node, ans):\n",
    "        if node == None:\n",
    "            return (0, 0)\n",
    "        \n",
    "        lhs = util(node.left, ans)\n",
    "        rhs = util(node.right, ans)\n",
    "        \n",
    "        ans = max(ans, (lhs[0]+rhs[0]+node.val) / (lhs[1]+rhs[1]+1))\n",
    "        print(ans)\n",
    "        \n",
    "        return (lhs[0]+rhs[0]+node.val, lhs[1]+rhs[1]+1)\n",
    "    \n",
    "    \n",
    "    util(root, val)\n",
    "    return val\n",
    "\n",
    "print(maxAverageTree(n20))\n",
    "    \n",
    "        \n",
    "        "
   ]
  },
  {
   "cell_type": "code",
   "execution_count": 15,
   "metadata": {},
   "outputs": [
    {
     "name": "stdout",
     "output_type": "stream",
     "text": [
      "3.0\n",
      "8.0\n",
      "5.333333333333333\n",
      "0\n"
     ]
    }
   ],
   "source": [
    "n1 = Node(5)\n",
    "n2 = Node(3)\n",
    "n3 = Node(8)\n",
    "\n",
    "n1.left = n2\n",
    "n1.right = n3\n",
    "print(maxAverageTree(n1))"
   ]
  },
  {
   "cell_type": "code",
   "execution_count": 22,
   "metadata": {},
   "outputs": [],
   "source": [
    "def isSafe(grid, i, j):\n",
    "    if i < 0 or i >= len(grid) or j < 0 or j >= len(grid[0]) or grid[i][j] != 1:\n",
    "        return False\n",
    "    return True\n",
    "\n",
    "def dfs(grid, i, j, count):\n",
    "    \n",
    "    grid[i][j] = \"#\"\n",
    "    rowNbr = [-1, -1, -1, 0, 0, 1, 1, 1]\n",
    "    colNbr = [-1, 0, 1, -1, 1, -1, 0, 1]\n",
    "    \n",
    "    for k in range(8):\n",
    "        if isSafe(grid, rowNbr[k]+i, colNbr[k]+j):\n",
    "            count[0] += 1\n",
    "            dfs(grid, rowNbr[k]+i, colNbr[k]+j, count)\n",
    "\n",
    "    \n",
    "def main_func(grid):\n",
    "    ans = float(\"-inf\")\n",
    "    \n",
    "    \n",
    "    \n",
    "    for i in range(len(grid)):\n",
    "        for j in range(len(grid[0])):\n",
    "            if grid[i][j] == 1:\n",
    "                val = [1]\n",
    "                dfs(grid, i, j, val)\n",
    "                ans = max(ans, val[0])\n",
    "                \n",
    "                \n",
    "    return ans\n",
    "    \n",
    "    "
   ]
  },
  {
   "cell_type": "code",
   "execution_count": 23,
   "metadata": {},
   "outputs": [
    {
     "name": "stdout",
     "output_type": "stream",
     "text": [
      "6\n"
     ]
    }
   ],
   "source": [
    "M = [[0, 0, 1, 1, 0],\n",
    "     [1, 0, 1, 1, 0],\n",
    "     [0, 1, 0, 0, 0],\n",
    "     [0, 0, 0, 0, 1]]\n",
    "\n",
    "print(main_func(M))"
   ]
  },
  {
   "cell_type": "code",
   "execution_count": 27,
   "metadata": {},
   "outputs": [
    {
     "data": {
      "text/plain": [
       "2"
      ]
     },
     "execution_count": 27,
     "metadata": {},
     "output_type": "execute_result"
    }
   ],
   "source": []
  },
  {
   "cell_type": "code",
   "execution_count": 6,
   "metadata": {},
   "outputs": [
    {
     "name": "stdout",
     "output_type": "stream",
     "text": [
      "100 2100\n",
      "110 2200\n",
      "200 2330\n"
     ]
    }
   ],
   "source": [
    "class Scheduler:\n",
    "    def __init__(self, processes, dependencies):\n",
    "        self.processes = processes\n",
    "        self.dependencies = dependencies\n",
    "        self.graph = {}\n",
    "        self.in_degree = {}\n",
    "        self.schedule = {}\n",
    "        \n",
    "        # Initialize the graph and in-degrees\n",
    "        for pid, (s, e) in enumerate(processes):\n",
    "            self.graph[pid + 1] = []\n",
    "            self.in_degree[pid + 1] = 0\n",
    "        \n",
    "        # Build the graph based on dependencies\n",
    "        for pid1, pid2 in dependencies:\n",
    "            self.graph[pid1].append(pid2)\n",
    "            self.in_degree[pid2] += 1\n",
    "    \n",
    "    def topological_sort(self):\n",
    "        # Queue for processes with no incoming edges\n",
    "        queue = [pid for pid in self.in_degree if self.in_degree[pid] == 0]\n",
    "        sorted_list = []\n",
    "        \n",
    "        while queue:\n",
    "            current = queue.pop(0)\n",
    "            sorted_list.append(current)\n",
    "            \n",
    "            for neighbor in self.graph[current]:\n",
    "                self.in_degree[neighbor] -= 1\n",
    "                if self.in_degree[neighbor] == 0:\n",
    "                    queue.append(neighbor)\n",
    "        \n",
    "        if len(sorted_list) != len(self.processes):\n",
    "            return None  # Cycle detected, invalid schedule\n",
    "        return sorted_list\n",
    "    \n",
    "    def PrintSchedule(self):\n",
    "        top_order = self.topological_sort()\n",
    "        if not top_order:\n",
    "            print(\"IMPOSSIBLE\")\n",
    "            return\n",
    "        \n",
    "        # Process the schedule in topological order\n",
    "        for pid in top_order:\n",
    "            start, end = self.processes[pid - 1]\n",
    "            self.schedule[pid] = (start, end)\n",
    "            for neighbor in self.graph[pid]:\n",
    "                n_start, n_end = self.processes[neighbor - 1]\n",
    "                # Ensure the neighbor starts after the current process starts\n",
    "                if n_start <= self.schedule[pid][0]:\n",
    "                    n_start = self.schedule[pid][0] + 1\n",
    "                # Ensure the neighbor ends before the current process ends\n",
    "                if n_end >= self.schedule[pid][1]:\n",
    "                    n_end = self.schedule[pid][1] - 1\n",
    "                # If invalid, output \"IMPOSSIBLE\"\n",
    "                if n_start >= n_end:\n",
    "                    print(\"IMPOSSIBLE\")\n",
    "                    return\n",
    "                self.schedule[neighbor] = (n_start, n_end)\n",
    "        \n",
    "        # Print the final schedule\n",
    "        for pid in range(1, len(self.processes) + 1):\n",
    "            print(self.schedule[pid][0], self.schedule[pid][1])\n",
    "\n",
    "# Example Usage\n",
    "processes = [(100, 2100), (110, 2200), (200, 2330)]\n",
    "dependencies = [(1, 2), (3, 2)]\n",
    "scheduler = Scheduler(processes, dependencies)\n",
    "scheduler.PrintSchedule()\n"
   ]
  },
  {
   "cell_type": "code",
   "execution_count": 16,
   "metadata": {},
   "outputs": [
    {
     "name": "stdout",
     "output_type": "stream",
     "text": [
      "100 2100\n",
      "201 2099\n",
      "200 2330\n"
     ]
    }
   ],
   "source": [
    "class Scheduler:\n",
    "    def __init__(self, processes, dependencies):\n",
    "        self.processes = processes\n",
    "        self.dependencies = dependencies\n",
    "        self.graph = {}\n",
    "        self.in_degree = {}\n",
    "        self.schedule = {}\n",
    "        \n",
    "        # Initialize the graph and in-degrees\n",
    "        for pid, (s, e) in enumerate(processes):\n",
    "            self.graph[pid + 1] = []\n",
    "            self.in_degree[pid + 1] = 0\n",
    "        \n",
    "        # Build the graph based on dependencies\n",
    "        for pid1, pid2 in dependencies:\n",
    "            self.graph[pid1].append(pid2)\n",
    "            self.in_degree[pid2] += 1\n",
    "    \n",
    "    def topological_sort(self):\n",
    "        # Queue for processes with no incoming edges\n",
    "        queue = [pid for pid in self.in_degree if self.in_degree[pid] == 0]\n",
    "        sorted_list = []\n",
    "        \n",
    "        while queue:\n",
    "            current = queue.pop(0)\n",
    "            sorted_list.append(current)\n",
    "            \n",
    "            for neighbor in self.graph[current]:\n",
    "                self.in_degree[neighbor] -= 1\n",
    "                if self.in_degree[neighbor] == 0:\n",
    "                    queue.append(neighbor)\n",
    "        \n",
    "        if len(sorted_list) != len(self.processes):\n",
    "            return None  # Cycle detected, invalid schedule\n",
    "        return sorted_list\n",
    "    \n",
    "    def PrintSchedule(self):\n",
    "        top_order = self.topological_sort()\n",
    "        if not top_order:\n",
    "            print(\"IMPOSSIBLE\")\n",
    "            return\n",
    "        \n",
    "        # Process the schedule in topological order\n",
    "        for pid in top_order:\n",
    "            start, end = self.processes[pid - 1]\n",
    "            if pid not in self.schedule:\n",
    "                self.schedule[pid] = (start, end)\n",
    "            for neighbor in self.graph[pid]:\n",
    "                n_start, n_end = self.processes[neighbor - 1]\n",
    "                # Ensure the neighbor starts after the current process starts\n",
    "                if neighbor not in self.schedule:\n",
    "                    self.schedule[neighbor] = (max(self.schedule[pid][0] + 1, n_start), n_end)\n",
    "                else:\n",
    "                    self.schedule[neighbor] = (max(self.schedule[pid][0] + 1, self.schedule[neighbor][0]), self.schedule[neighbor][1])\n",
    "                # Ensure the neighbor ends before the current process ends\n",
    "                self.schedule[neighbor] = (self.schedule[neighbor][0], min(self.schedule[pid][1] - 1, self.schedule[neighbor][1]))\n",
    "                \n",
    "                # If invalid, output \"IMPOSSIBLE\"\n",
    "                if self.schedule[neighbor][0] >= self.schedule[neighbor][1]:\n",
    "                    print(\"IMPOSSIBLE\")\n",
    "                    return\n",
    "        \n",
    "        # Print the final schedule\n",
    "        for pid in range(1, len(self.processes) + 1):\n",
    "            print(self.schedule[pid][0], self.schedule[pid][1])\n",
    "\n",
    "# Example Usage\n",
    "processes = [(100, 2100), (110, 2200), (200, 2330)]\n",
    "dependencies = [(1, 2), (3, 2)]\n",
    "scheduler = Scheduler(processes, dependencies)\n",
    "scheduler.PrintSchedule()\n"
   ]
  },
  {
   "cell_type": "code",
   "execution_count": 10,
   "metadata": {},
   "outputs": [
    {
     "name": "stdout",
     "output_type": "stream",
     "text": [
      "number_of_stores: 0, number_of_orders: 2, number_of_different_beverages: 2, number_of_beverages: 7\n",
      "reject_order: 3\n",
      "number_of_stores: -1, number_of_orders: 0, number_of_different_beverages: 0, number_of_beverages: 0\n"
     ]
    }
   ],
   "source": []
  },
  {
   "cell_type": "code",
   "execution_count": 14,
   "metadata": {},
   "outputs": [
    {
     "name": "stdout",
     "output_type": "stream",
     "text": [
      "number_of_stores: 0, number_of_orders: 2, number_of_different_beverages: 2, number_of_beverages: 150\n",
      "number_of_stores: -1, number_of_orders: 1, number_of_different_beverages: 1, number_of_beverages: 50\n",
      "number_of_stores: -1, number_of_orders: 1, number_of_different_beverages: 1, number_of_beverages: 0\n"
     ]
    }
   ],
   "source": [
    "class BeverageTracker:\n",
    "    def __init__(self):\n",
    "        self.orders = {}  # storeId -> {beverageName -> quantity}\n",
    "        self.unique_orders = {}  # uniqueId -> (storeId, beverageName, quantity)\n",
    "        self.number_of_stores = 0\n",
    "        self.number_of_orders = 0\n",
    "        self.number_of_different_beverages = 0\n",
    "        self.number_of_beverages = 0\n",
    "        self.number_of_each_beverage = {}\n",
    "        self.limits = {\n",
    "            'numberOfStores': float('inf'),\n",
    "            'perBeverageTotal': {}\n",
    "        }\n",
    "\n",
    "    def update_limits(self, numberOfStores, perBeverageTotal):\n",
    "        self.limits['numberOfStores'] = numberOfStores\n",
    "        self.limits['perBeverageTotal'] = {bev: perBeverageTotal for bev in self.number_of_each_beverage}\n",
    "\n",
    "        # Check if any limits are exceeded\n",
    "        if self.number_of_stores > self.limits['numberOfStores']:\n",
    "            self.close_all_stores()\n",
    "        for beverage, limit in self.limits['perBeverageTotal'].items():\n",
    "            if self.number_of_each_beverage.get(beverage, 0) > limit:\n",
    "                self.close_all_stores()\n",
    "\n",
    "    def process_order(self, uniqueId, storeId, beverageName, quantity):\n",
    "        if storeId not in self.orders:\n",
    "            self.orders[storeId] = {}\n",
    "\n",
    "        if uniqueId in self.unique_orders:\n",
    "            # If the order already exists, we need to remove the previous quantity\n",
    "            old_storeId, old_beverageName, old_quantity = self.unique_orders[uniqueId]\n",
    "            self.number_of_beverages -= old_quantity\n",
    "            self.number_of_each_beverage[old_beverageName] -= old_quantity\n",
    "            if self.number_of_each_beverage[old_beverageName] == 0:\n",
    "                del self.number_of_each_beverage[old_beverageName]\n",
    "                self.number_of_different_beverages -= 1\n",
    "            self.orders[old_storeId][old_beverageName] -= old_quantity\n",
    "            if self.orders[old_storeId][old_beverageName] == 0:\n",
    "                del self.orders[old_storeId][old_beverageName]\n",
    "                self.number_of_orders -= 1\n",
    "            if not self.orders[old_storeId]:\n",
    "                del self.orders[old_storeId]\n",
    "                self.number_of_stores -= 1\n",
    "\n",
    "        # Check the limits before processing the new order\n",
    "        if (self.number_of_stores + (1 if storeId not in self.orders else 0) > self.limits['numberOfStores'] or\n",
    "            beverageName in self.limits['perBeverageTotal'] and\n",
    "            self.number_of_each_beverage.get(beverageName, 0) + quantity > self.limits['perBeverageTotal'][beverageName]):\n",
    "            print(f\"reject_order: {uniqueId}\")\n",
    "            return\n",
    "\n",
    "        # Process the new order\n",
    "        if storeId not in self.orders:\n",
    "            self.number_of_stores += 1\n",
    "            self.orders[storeId] = {}\n",
    "        if beverageName not in self.orders[storeId]:\n",
    "            self.number_of_orders += 1\n",
    "        else:\n",
    "            self.number_of_beverages -= self.orders[storeId][beverageName]\n",
    "            self.number_of_each_beverage[beverageName] -= self.orders[storeId][beverageName]\n",
    "            if self.number_of_each_beverage[beverageName] == 0:\n",
    "                del self.number_of_each_beverage[beverageName]\n",
    "                self.number_of_different_beverages -= 1\n",
    "        self.orders[storeId][beverageName] = quantity\n",
    "        self.unique_orders[uniqueId] = (storeId, beverageName, quantity)\n",
    "        self.number_of_beverages += quantity\n",
    "        self.number_of_each_beverage[beverageName] = self.number_of_each_beverage.get(beverageName, 0) + quantity\n",
    "        if self.number_of_each_beverage[beverageName] == quantity:\n",
    "            self.number_of_different_beverages += 1\n",
    "\n",
    "    def close_store(self, storeId):\n",
    "        if storeId in self.orders:\n",
    "            for beverageName, quantity in self.orders[storeId].items():\n",
    "                self.number_of_beverages -= quantity\n",
    "                self.number_of_each_beverage[beverageName] -= quantity\n",
    "                if self.number_of_each_beverage[beverageName] == 0:\n",
    "                    del self.number_of_each_beverage[beverageName]\n",
    "                    self.number_of_different_beverages -= 1\n",
    "                self.number_of_orders -= 1\n",
    "            del self.orders[storeId]\n",
    "            self.number_of_stores -= 1\n",
    "\n",
    "    def close_all_stores(self):\n",
    "        self.orders.clear()\n",
    "        self.unique_orders.clear()\n",
    "        self.number_of_stores = 0\n",
    "        self.number_of_orders = 0\n",
    "        self.number_of_different_beverages = 0\n",
    "        self.number_of_beverages = 0\n",
    "        self.number_of_each_beverage.clear()\n",
    "\n",
    "    def print_state(self):\n",
    "        print(f\"number_of_stores: {self.number_of_stores}, \"\n",
    "              f\"number_of_orders: {self.number_of_orders}, \"\n",
    "              f\"number_of_different_beverages: {self.number_of_different_beverages}, \"\n",
    "              f\"number_of_beverages: {self.number_of_beverages}\")\n",
    "\n",
    "    def process_command(self, command):\n",
    "        parts = command.split()\n",
    "        if parts[0] == \"UPDATE_LIMIT\":\n",
    "            self.update_limits(int(parts[1]), int(parts[2]))\n",
    "        elif parts[0] == \"ORDER_UPDATE\":\n",
    "            self.process_order(int(parts[1]), int(parts[2]), parts[3], int(parts[4]))\n",
    "        elif parts[0] == \"CLOSE_STORE\":\n",
    "            self.close_store(int(parts[1]))\n",
    "        elif parts[0] == \"PRINT_STATE\":\n",
    "            self.print_state()\n",
    "\n",
    "# Example usage:\n",
    "tracker = BeverageTracker()\n",
    "commands = [\n",
    "    \"UPDATE_LIMIT 100 1000\",\n",
    "    \"ORDER_UPDATE 1 1 lemonade 100\",\n",
    "    \"ORDER_UPDATE 2 2 hot_chocolate 50\",\n",
    "    \"PRINT_STATE\",\n",
    "    \"CLOSE_STORE 1\",\n",
    "    \"PRINT_STATE\",\n",
    "    \"ORDER_UPDATE 3 2 hot_chocolate 0\",\n",
    "    \"PRINT_STATE\"\n",
    "]\n",
    "\n",
    "for command in commands:\n",
    "    tracker.process_command(command)\n"
   ]
  },
  {
   "cell_type": "code",
   "execution_count": 15,
   "metadata": {},
   "outputs": [
    {
     "name": "stdout",
     "output_type": "stream",
     "text": [
      "number_of_stores: 2, number_of_orders: 2, number_of_different_beverages: 2, number_of_beverages: 150\n",
      "number_of_stores: 1, number_of_orders: 1, number_of_different_beverages: 1, number_of_beverages: 50\n",
      "number_of_stores: 0, number_of_orders: 0, number_of_different_beverages: 1, number_of_beverages: 0\n"
     ]
    }
   ],
   "source": [
    "class BeverageTracker:\n",
    "    def __init__(self):\n",
    "        self.orders = {}  # storeId -> {beverageName -> quantity}\n",
    "        self.unique_orders = {}  # uniqueId -> (storeId, beverageName, quantity)\n",
    "        self.number_of_stores = 0\n",
    "        self.number_of_orders = 0\n",
    "        self.number_of_different_beverages = 0\n",
    "        self.number_of_beverages = 0\n",
    "        self.number_of_each_beverage = {}\n",
    "        self.limits = {\n",
    "            'numberOfStores': float('inf'),\n",
    "            'perBeverageTotal': float('inf')\n",
    "        }\n",
    "\n",
    "    def update_limits(self, numberOfStores, perBeverageTotal):\n",
    "        self.limits['numberOfStores'] = numberOfStores\n",
    "        self.limits['perBeverageTotal'] = perBeverageTotal\n",
    "\n",
    "        # Check if any limits are exceeded\n",
    "        if self.number_of_stores > self.limits['numberOfStores']:\n",
    "            self.close_all_stores()\n",
    "        for beverage, total in self.number_of_each_beverage.items():\n",
    "            if total > self.limits['perBeverageTotal']:\n",
    "                self.close_all_stores()\n",
    "                break\n",
    "\n",
    "    def process_order(self, uniqueId, storeId, beverageName, quantity):\n",
    "        if uniqueId in self.unique_orders:\n",
    "            # If the order already exists, we need to remove the previous quantity\n",
    "            old_storeId, old_beverageName, old_quantity = self.unique_orders[uniqueId]\n",
    "            self.number_of_beverages -= old_quantity\n",
    "            self.number_of_each_beverage[old_beverageName] -= old_quantity\n",
    "            if self.number_of_each_beverage[old_beverageName] == 0:\n",
    "                del self.number_of_each_beverage[old_beverageName]\n",
    "                self.number_of_different_beverages -= 1\n",
    "            self.orders[old_storeId][old_beverageName] -= old_quantity\n",
    "            if self.orders[old_storeId][old_beverageName] == 0:\n",
    "                del self.orders[old_storeId][old_beverageName]\n",
    "                self.number_of_orders -= 1\n",
    "            if not self.orders[old_storeId]:\n",
    "                del self.orders[old_storeId]\n",
    "                self.number_of_stores -= 1\n",
    "\n",
    "        # Check the limits before processing the new order\n",
    "        if (self.number_of_stores + (1 if storeId not in self.orders else 0) > self.limits['numberOfStores'] or\n",
    "            self.number_of_each_beverage.get(beverageName, 0) + quantity > self.limits['perBeverageTotal']):\n",
    "            print(f\"reject_order: {uniqueId}\")\n",
    "            return\n",
    "\n",
    "        # Process the new order\n",
    "        if storeId not in self.orders:\n",
    "            self.number_of_stores += 1\n",
    "            self.orders[storeId] = {}\n",
    "        if beverageName not in self.orders[storeId]:\n",
    "            self.number_of_orders += 1\n",
    "        self.number_of_beverages -= self.orders[storeId].get(beverageName, 0)\n",
    "        self.number_of_each_beverage[beverageName] = self.number_of_each_beverage.get(beverageName, 0) - self.orders[storeId].get(beverageName, 0)\n",
    "        self.orders[storeId][beverageName] = quantity\n",
    "        self.unique_orders[uniqueId] = (storeId, beverageName, quantity)\n",
    "        self.number_of_beverages += quantity\n",
    "        self.number_of_each_beverage[beverageName] = self.number_of_each_beverage.get(beverageName, 0) + quantity\n",
    "        if self.number_of_each_beverage[beverageName] == quantity:\n",
    "            self.number_of_different_beverages += 1\n",
    "\n",
    "        # Check if store is out of business\n",
    "        if sum(self.orders[storeId].values()) == 0:\n",
    "            self.close_store(storeId)\n",
    "\n",
    "    def close_store(self, storeId):\n",
    "        if storeId in self.orders:\n",
    "            for beverageName, quantity in self.orders[storeId].items():\n",
    "                self.number_of_beverages -= quantity\n",
    "                self.number_of_each_beverage[beverageName] -= quantity\n",
    "                if self.number_of_each_beverage[beverageName] == 0:\n",
    "                    del self.number_of_each_beverage[beverageName]\n",
    "                    self.number_of_different_beverages -= 1\n",
    "                self.number_of_orders -= 1\n",
    "            del self.orders[storeId]\n",
    "            self.number_of_stores -= 1\n",
    "\n",
    "    def close_all_stores(self):\n",
    "        self.orders.clear()\n",
    "        self.unique_orders.clear()\n",
    "        self.number_of_stores = 0\n",
    "        self.number_of_orders = 0\n",
    "        self.number_of_different_beverages = 0\n",
    "        self.number_of_beverages = 0\n",
    "        self.number_of_each_beverage.clear()\n",
    "\n",
    "    def print_state(self):\n",
    "        print(f\"number_of_stores: {self.number_of_stores}, \"\n",
    "              f\"number_of_orders: {self.number_of_orders}, \"\n",
    "              f\"number_of_different_beverages: {self.number_of_different_beverages}, \"\n",
    "              f\"number_of_beverages: {self.number_of_beverages}\")\n",
    "\n",
    "    def process_command(self, command):\n",
    "        parts = command.split()\n",
    "        if parts[0] == \"UPDATE_LIMIT\":\n",
    "            self.update_limits(int(parts[1]), int(parts[2]))\n",
    "        elif parts[0] == \"ORDER_UPDATE\":\n",
    "            self.process_order(int(parts[1]), int(parts[2]), parts[3], int(parts[4]))\n",
    "        elif parts[0] == \"CLOSE_STORE\":\n",
    "            self.close_store(int(parts[1]))\n",
    "        elif parts[0] == \"PRINT_STATE\":\n",
    "            self.print_state()\n",
    "\n",
    "# Example usage:\n",
    "tracker = BeverageTracker()\n",
    "commands = [\n",
    "    \"UPDATE_LIMIT 100 1000\",\n",
    "    \"ORDER_UPDATE 1 1 lemonade 100\",\n",
    "    \"ORDER_UPDATE 2 2 hot_chocolate 50\",\n",
    "    \"PRINT_STATE\",\n",
    "    \"CLOSE_STORE 1\",\n",
    "    \"PRINT_STATE\",\n",
    "    \"ORDER_UPDATE 3 2 hot_chocolate 0\",\n",
    "    \"PRINT_STATE\"\n",
    "]\n",
    "\n",
    "for command in commands:\n",
    "    tracker.process_command(command)\n"
   ]
  },
  {
   "cell_type": "code",
   "execution_count": 3,
   "metadata": {},
   "outputs": [
    {
     "name": "stdout",
     "output_type": "stream",
     "text": [
      "-1\n"
     ]
    }
   ],
   "source": [
    "def minCost(numProjects, projectId, bid):\n",
    "    # Initialize the minimum bids array with infinity\n",
    "    min_bids = [float('inf')] * numProjects\n",
    "    \n",
    "    # Update the minimum bids for each project\n",
    "    for i in range(len(projectId)):\n",
    "        project = projectId[i]\n",
    "        amount = bid[i]\n",
    "        if amount < min_bids[project]:\n",
    "            min_bids[project] = amount\n",
    "    \n",
    "    # Calculate the total minimum cost\n",
    "    total_cost = 0\n",
    "    for cost in min_bids:\n",
    "        if cost == float('inf'):\n",
    "            return -1  # If any project has no bids, return -1\n",
    "        total_cost += cost\n",
    "    \n",
    "    return total_cost\n",
    "\n",
    "# Example usage:\n",
    "numProjects = 2\n",
    "projectId = [1, 1]\n",
    "bid = [4, 7]\n",
    "print(minCost(numProjects, projectId, bid))"
   ]
  },
  {
   "cell_type": "code",
   "execution_count": 4,
   "metadata": {},
   "outputs": [],
   "source": [
    "from collections import defaultdict\n",
    "\n",
    "li = defaultdict(list)"
   ]
  },
  {
   "cell_type": "code",
   "execution_count": 5,
   "metadata": {},
   "outputs": [
    {
     "data": {
      "text/plain": [
       "[]"
      ]
     },
     "execution_count": 5,
     "metadata": {},
     "output_type": "execute_result"
    }
   ],
   "source": [
    "li[0]"
   ]
  },
  {
   "cell_type": "code",
   "execution_count": 10,
   "metadata": {},
   "outputs": [
    {
     "name": "stdout",
     "output_type": "stream",
     "text": [
      "Connection established between Alice and Bob\n",
      "Connection in use. Please try later\n",
      "Alice and Bob not found in the communication channel\n"
     ]
    }
   ],
   "source": [
    "from abc import ABC, abstractmethod\n",
    "\n",
    "class CommunicationException(Exception):\n",
    "    def __init__(self, message):\n",
    "        super().__init__(message)\n",
    "\n",
    "class Caller:\n",
    "    def __init__(self, name):\n",
    "        self.name = name\n",
    "\n",
    "class CommsHandlerABC(ABC):\n",
    "    @abstractmethod\n",
    "    def connect(self, user1: Caller, user2: Caller) -> str:\n",
    "        pass\n",
    "\n",
    "    @abstractmethod\n",
    "    def hangup(self, user1: Caller, user2: Caller) -> str:\n",
    "        pass\n",
    "\n",
    "    @abstractmethod\n",
    "    def clear_all(self) -> None:\n",
    "        pass\n",
    "\n",
    "class CommsHandler(CommsHandlerABC):\n",
    "    def __init__(self):\n",
    "        self.connection = None\n",
    "\n",
    "    def connect(self, user1: Caller, user2: Caller) -> str:\n",
    "        if user1.name == user2.name:\n",
    "            raise CommunicationException(f\"{user1.name} cannot connect with {user2.name}\")\n",
    "        \n",
    "        if self.connection is not None:\n",
    "            raise CommunicationException(\"Connection in use. Please try later\")\n",
    "        \n",
    "        self.connection = (user1, user2)\n",
    "        return f\"Connection established between {user1.name} and {user2.name}\"\n",
    "\n",
    "    def hangup(self, user1: Caller, user2: Caller) -> str:\n",
    "        if user1.name == user2.name:\n",
    "            raise CommunicationException(f\"{user1.name} cannot hangup with {user2.name}\")\n",
    "        \n",
    "        if self.connection is None or self.connection != (user1, user2) or self.connection != (user2, user1):\n",
    "            raise CommunicationException(f\"{user1.name} and {user2.name} not found in the communication channel\")\n",
    "        \n",
    "        self.connection = None\n",
    "        return f\"{user1.name} and {user2.name} are disconnected\"\n",
    "\n",
    "    def clear_all(self) -> None:\n",
    "        self.connection = None\n",
    "\n",
    "# Example usage:\n",
    "try:\n",
    "    user1 = Caller(\"Alice\")\n",
    "    user2 = Caller(\"Bob\")\n",
    "    handler = CommsHandler()\n",
    "    \n",
    "    # Establishing connection\n",
    "    print(handler.connect(user1, user2))  # Should print connection established message\n",
    "    \n",
    "    # Trying to connect again while the line is in use\n",
    "    try:\n",
    "        print(handler.connect(user1, user2))\n",
    "    except CommunicationException as e:\n",
    "        print(e)  # Should print \"Connection in use. Please try later\"\n",
    "\n",
    "    # Hanging up the connection\n",
    "    print(handler.hangup(user1, user2))  # Should print disconnection message\n",
    "    \n",
    "    # Clearing all connections (not needed here since already hung up)\n",
    "    handler.clear_all()\n",
    "    \n",
    "    # Trying to hang up again after clearing\n",
    "    try:\n",
    "        print(handler.hangup(user1, user2))\n",
    "    except CommunicationException as e:\n",
    "        print(e)  # Should print \"Alice and Bob not found in the communication channel\"\n",
    "    \n",
    "except CommunicationException as e:\n",
    "    print(e)\n"
   ]
  },
  {
   "cell_type": "code",
   "execution_count": 7,
   "metadata": {},
   "outputs": [
    {
     "ename": "KeyboardInterrupt",
     "evalue": "",
     "output_type": "error",
     "traceback": [
      "\u001b[0;31m---------------------------------------------------------------------------\u001b[0m",
      "\u001b[0;31mKeyboardInterrupt\u001b[0m                         Traceback (most recent call last)",
      "Cell \u001b[0;32mIn[7], line 44\u001b[0m\n\u001b[1;32m     36\u001b[0m \u001b[38;5;66;03m# Test cases\u001b[39;00m\n\u001b[1;32m     37\u001b[0m samples \u001b[38;5;241m=\u001b[39m [\n\u001b[1;32m     38\u001b[0m     (\u001b[38;5;241m1\u001b[39m, \u001b[38;5;241m2\u001b[39m),    \u001b[38;5;66;03m# Sample 01\u001b[39;00m\n\u001b[1;32m     39\u001b[0m     (\u001b[38;5;241m9\u001b[39m, \u001b[38;5;241m1\u001b[39m),    \u001b[38;5;66;03m# Sample 02\u001b[39;00m\n\u001b[1;32m     40\u001b[0m     (\u001b[38;5;241m2\u001b[39m, \u001b[38;5;241m10\u001b[39m),   \u001b[38;5;66;03m# Sample 03\u001b[39;00m\n\u001b[1;32m     41\u001b[0m     (\u001b[38;5;241m100\u001b[39m, \u001b[38;5;241m500\u001b[39m) \u001b[38;5;66;03m# Sample 04\u001b[39;00m\n\u001b[1;32m     42\u001b[0m ]\n\u001b[0;32m---> 44\u001b[0m results \u001b[38;5;241m=\u001b[39m \u001b[43m[\u001b[49m\u001b[43mmin_operations\u001b[49m\u001b[43m(\u001b[49m\u001b[43mA\u001b[49m\u001b[43m,\u001b[49m\u001b[43m \u001b[49m\u001b[43mB\u001b[49m\u001b[43m)\u001b[49m\u001b[43m \u001b[49m\u001b[38;5;28;43;01mfor\u001b[39;49;00m\u001b[43m \u001b[49m\u001b[43mA\u001b[49m\u001b[43m,\u001b[49m\u001b[43m \u001b[49m\u001b[43mB\u001b[49m\u001b[43m \u001b[49m\u001b[38;5;129;43;01min\u001b[39;49;00m\u001b[43m \u001b[49m\u001b[43msamples\u001b[49m\u001b[43m]\u001b[49m\n\u001b[1;32m     45\u001b[0m \u001b[38;5;28mprint\u001b[39m(results)\n",
      "Cell \u001b[0;32mIn[7], line 44\u001b[0m, in \u001b[0;36m<listcomp>\u001b[0;34m(.0)\u001b[0m\n\u001b[1;32m     36\u001b[0m \u001b[38;5;66;03m# Test cases\u001b[39;00m\n\u001b[1;32m     37\u001b[0m samples \u001b[38;5;241m=\u001b[39m [\n\u001b[1;32m     38\u001b[0m     (\u001b[38;5;241m1\u001b[39m, \u001b[38;5;241m2\u001b[39m),    \u001b[38;5;66;03m# Sample 01\u001b[39;00m\n\u001b[1;32m     39\u001b[0m     (\u001b[38;5;241m9\u001b[39m, \u001b[38;5;241m1\u001b[39m),    \u001b[38;5;66;03m# Sample 02\u001b[39;00m\n\u001b[1;32m     40\u001b[0m     (\u001b[38;5;241m2\u001b[39m, \u001b[38;5;241m10\u001b[39m),   \u001b[38;5;66;03m# Sample 03\u001b[39;00m\n\u001b[1;32m     41\u001b[0m     (\u001b[38;5;241m100\u001b[39m, \u001b[38;5;241m500\u001b[39m) \u001b[38;5;66;03m# Sample 04\u001b[39;00m\n\u001b[1;32m     42\u001b[0m ]\n\u001b[0;32m---> 44\u001b[0m results \u001b[38;5;241m=\u001b[39m [\u001b[43mmin_operations\u001b[49m\u001b[43m(\u001b[49m\u001b[43mA\u001b[49m\u001b[43m,\u001b[49m\u001b[43m \u001b[49m\u001b[43mB\u001b[49m\u001b[43m)\u001b[49m \u001b[38;5;28;01mfor\u001b[39;00m A, B \u001b[38;5;129;01min\u001b[39;00m samples]\n\u001b[1;32m     45\u001b[0m \u001b[38;5;28mprint\u001b[39m(results)\n",
      "Cell \u001b[0;32mIn[7], line 27\u001b[0m, in \u001b[0;36mmin_operations\u001b[0;34m(A, B)\u001b[0m\n\u001b[1;32m     25\u001b[0m \u001b[38;5;66;03m# Add next states to the queue if not visited\u001b[39;00m\n\u001b[1;32m     26\u001b[0m \u001b[38;5;28;01mif\u001b[39;00m next_subtract \u001b[38;5;241m>\u001b[39m\u001b[38;5;241m=\u001b[39m \u001b[38;5;241m0\u001b[39m \u001b[38;5;129;01mand\u001b[39;00m next_subtract \u001b[38;5;129;01mnot\u001b[39;00m \u001b[38;5;129;01min\u001b[39;00m visited:\n\u001b[0;32m---> 27\u001b[0m     \u001b[43mvisited\u001b[49m\u001b[38;5;241;43m.\u001b[39;49m\u001b[43madd\u001b[49m\u001b[43m(\u001b[49m\u001b[43mnext_subtract\u001b[49m\u001b[43m)\u001b[49m\n\u001b[1;32m     28\u001b[0m     queue\u001b[38;5;241m.\u001b[39mappend((next_subtract, ops \u001b[38;5;241m+\u001b[39m \u001b[38;5;241m1\u001b[39m))\n\u001b[1;32m     30\u001b[0m \u001b[38;5;28;01mif\u001b[39;00m next_multiply \u001b[38;5;129;01mnot\u001b[39;00m \u001b[38;5;129;01min\u001b[39;00m visited:\n",
      "\u001b[0;31mKeyboardInterrupt\u001b[0m: "
     ]
    }
   ],
   "source": [
    "from collections import deque\n",
    "\n",
    "def min_operations(A, B):\n",
    "    if A >= B:\n",
    "        return A - B\n",
    "\n",
    "    # Queue for BFS\n",
    "    queue = deque([(A, 0)])  # (current value, number of operations)\n",
    "\n",
    "    # Visited set to prevent cycles\n",
    "    visited = set()\n",
    "    visited.add(A)\n",
    "\n",
    "    while queue:\n",
    "        current, ops = queue.popleft()\n",
    "\n",
    "        # If we reach B, return the number of operations\n",
    "        if current == B:\n",
    "            return ops\n",
    "\n",
    "        # Try the two operations\n",
    "        next_subtract = current - 1\n",
    "        next_multiply = current * 2\n",
    "\n",
    "        # Add next states to the queue if not visited\n",
    "        if next_subtract >= 0 and next_subtract not in visited:\n",
    "            visited.add(next_subtract)\n",
    "            queue.append((next_subtract, ops + 1))\n",
    "        \n",
    "        if next_multiply not in visited:\n",
    "            visited.add(next_multiply)\n",
    "            queue.append((next_multiply, ops + 1))\n",
    "\n",
    "    return -1  # In case there's no possible way (though theoretically there always is)\n",
    "\n",
    "# Test cases\n",
    "samples = [\n",
    "    (1, 2),    # Sample 01\n",
    "    (9, 1),    # Sample 02\n",
    "    (2, 10),   # Sample 03\n",
    "    (100, 500) # Sample 04\n",
    "]\n",
    "\n",
    "results = [min_operations(A, B) for A, B in samples]\n",
    "print(results)\n"
   ]
  },
  {
   "cell_type": "code",
   "execution_count": 9,
   "metadata": {},
   "outputs": [
    {
     "ename": "AssertionError",
     "evalue": "",
     "output_type": "error",
     "traceback": [
      "\u001b[0;31m---------------------------------------------------------------------------\u001b[0m",
      "\u001b[0;31mAssertionError\u001b[0m                            Traceback (most recent call last)",
      "Cell \u001b[0;32mIn[9], line 1\u001b[0m\n\u001b[0;32m----> 1\u001b[0m \u001b[38;5;28;01massert\u001b[39;00m \u001b[38;5;241m3\u001b[39m \u001b[38;5;241m==\u001b[39m \u001b[38;5;241m4\u001b[39m\n",
      "\u001b[0;31mAssertionError\u001b[0m: "
     ]
    }
   ],
   "source": [
    "assert 3 == 4"
   ]
  },
  {
   "cell_type": "code",
   "execution_count": null,
   "metadata": {},
   "outputs": [],
   "source": [
    "the earth takes about "
   ]
  }
 ],
 "metadata": {
  "kernelspec": {
   "display_name": "Python 3",
   "language": "python",
   "name": "python3"
  },
  "language_info": {
   "codemirror_mode": {
    "name": "ipython",
    "version": 3
   },
   "file_extension": ".py",
   "mimetype": "text/x-python",
   "name": "python",
   "nbconvert_exporter": "python",
   "pygments_lexer": "ipython3",
   "version": "3.11.4"
  }
 },
 "nbformat": 4,
 "nbformat_minor": 2
}
