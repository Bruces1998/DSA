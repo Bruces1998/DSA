{
 "cells": [
  {
   "cell_type": "code",
   "execution_count": 14,
   "metadata": {},
   "outputs": [],
   "source": [
    "'''\n",
    "Reference taken from\n",
    "https://leetcode.com/problems/combination-sum/discuss/16502/A-general-approach-to-backtracking-questions-in-Java-(Subsets-Permutations-Combination-Sum-Palindrome-Partitioning\n",
    "\n",
    "'''\n",
    "\n",
    "#combination sum 1\n",
    "\n",
    "def backTrack(ans, ds, arr, target, start):\n",
    "    if target < 0:\n",
    "        return \n",
    "    \n",
    "    if target == 0:\n",
    "        ans.append(ds.copy())\n",
    "        \n",
    "    else:\n",
    "        for i in range(start, len(arr)):\n",
    "            ds.append(arr[i])\n",
    "            backTrack(ans, ds, arr, target-arr[i], i)\n",
    "            ds.pop(-1)\n",
    "            \n",
    "            \n",
    "def combSum(arr, target):\n",
    "    ans = []\n",
    "    ds = []\n",
    "#     arr.sort()\n",
    "    backTrack(ans, ds, arr, target, 0)\n",
    "    \n",
    "    return ans"
   ]
  },
  {
   "cell_type": "code",
   "execution_count": 15,
   "metadata": {},
   "outputs": [
    {
     "data": {
      "text/plain": [
       "[[2, 2, 3], [2, 3, 2], [3, 2, 2], [7]]"
      ]
     },
     "execution_count": 15,
     "metadata": {},
     "output_type": "execute_result"
    }
   ],
   "source": [
    "combSum([2, 3, 2, 6, 7], 7)"
   ]
  },
  {
   "cell_type": "code",
   "execution_count": 16,
   "metadata": {},
   "outputs": [],
   "source": [
    "#combination sum II\n",
    "'''\n",
    "Reference taken from\n",
    "https://leetcode.com/problems/combination-sum/discuss/16502/A-general-approach-to-backtracking-questions-in-Java-(Subsets-Permutations-Combination-Sum-Palindrome-Partitioning\n",
    "\n",
    "'''\n",
    "\n",
    "#combination sum 1\n",
    "\n",
    "def backTrackII(ans, ds, arr, target, start):\n",
    "    if target < 0:\n",
    "        return \n",
    "    \n",
    "    if target == 0:\n",
    "        ans.append(ds.copy())\n",
    "        \n",
    "    else:\n",
    "        for i in range(start, len(arr)):\n",
    "            if i > start and arr[i] == arr[i-1]:\n",
    "                continue\n",
    "            ds.append(arr[i])\n",
    "            backTrackII(ans, ds, arr, target-arr[i], i)\n",
    "            ds.pop(-1)\n",
    "            \n",
    "            \n",
    "def combSumII(arr, target):\n",
    "    ans = []\n",
    "    ds = []\n",
    "    arr.sort()\n",
    "    backTrackII(ans, ds, arr, target, 0)\n",
    "    \n",
    "    return ans"
   ]
  },
  {
   "cell_type": "code",
   "execution_count": 17,
   "metadata": {},
   "outputs": [
    {
     "data": {
      "text/plain": [
       "[[2, 2, 3], [7]]"
      ]
     },
     "execution_count": 17,
     "metadata": {},
     "output_type": "execute_result"
    }
   ],
   "source": [
    "combSumII([2, 3, 2, 6, 7], 7)"
   ]
  },
  {
   "cell_type": "code",
   "execution_count": 34,
   "metadata": {},
   "outputs": [
    {
     "name": "stdout",
     "output_type": "stream",
     "text": [
      "[[], [1], [1, 2], [1, 2, 3], [1, 3], [2], [2, 3], [3]]\n"
     ]
    }
   ],
   "source": [
    "#subsets 1\n",
    "\n",
    "def subsets(nums):\n",
    "    \n",
    "    def backTrack(ans, ds, nums, start):\n",
    "        ans.append(ds.copy())\n",
    "        \n",
    "        for i in range(start, len(nums)):\n",
    "            ds.append(nums[i])\n",
    "            backTrack(ans, ds, nums, i+1)\n",
    "            ds.pop(-1)\n",
    "            \n",
    "    ans = []\n",
    "    ds = []\n",
    "    backTrack(ans, ds, nums, 0)\n",
    "    return ans\n",
    "\n",
    "print(subsets([1, 2, 3]))"
   ]
  },
  {
   "cell_type": "code",
   "execution_count": 29,
   "metadata": {},
   "outputs": [],
   "source": [
    "#subsets 2\n",
    "def subsetsII(nums):\n",
    "    \n",
    "    def backTrack(ans, ds, nums, start):\n",
    "        ans.append(ds.copy())\n",
    "        \n",
    "        for i in range(start, len(nums)):\n",
    "            if i > start and nums[i] == nums[i-1]:\n",
    "                continue\n",
    "            ds.append(nums[i])\n",
    "            backTrack(ans, ds, nums, i+1)\n",
    "            ds.pop(-1)\n",
    "            \n",
    "    ans = []\n",
    "    ds = []\n",
    "    nums.sort()\n",
    "    backTrack(ans, ds, nums, 0)\n",
    "    return ans"
   ]
  },
  {
   "cell_type": "code",
   "execution_count": 31,
   "metadata": {},
   "outputs": [
    {
     "data": {
      "text/plain": [
       "[[],\n",
       " [1],\n",
       " [1, 1],\n",
       " [1, 1, 2],\n",
       " [1, 1, 2, 3],\n",
       " [1, 1, 3],\n",
       " [1, 2],\n",
       " [1, 2, 3],\n",
       " [1, 3],\n",
       " [2],\n",
       " [2, 3],\n",
       " [3]]"
      ]
     },
     "execution_count": 31,
     "metadata": {},
     "output_type": "execute_result"
    }
   ],
   "source": [
    "subsetsII([1, 2, 3, 1])"
   ]
  },
  {
   "cell_type": "code",
   "execution_count": 32,
   "metadata": {},
   "outputs": [],
   "source": [
    "#Pallindrome Partitioning\n",
    "def isPal(s, low, high):\n",
    "    while(low < high):\n",
    "        if s[low] != s[high]:\n",
    "            return False\n",
    "        low += 1\n",
    "        high -= 1\n",
    "        \n",
    "    return True\n",
    "\n",
    "def partition(string):\n",
    "    \n",
    "    def backTrack(ans, ds, string, start):\n",
    "        if start == len(string):\n",
    "            ans.append(ds.copy())\n",
    "            \n",
    "        else:\n",
    "            for i in range(start, len(string)):\n",
    "                if isPal(string, start, i):\n",
    "                    ds.append(string[start:i+1])\n",
    "                    backTrack(ans, ds, string, i+1)\n",
    "                    ds.pop(-1)\n",
    "                    \n",
    "                    \n",
    "    ans = []\n",
    "    ds = []\n",
    "    backTrack(ans, ds, string, 0)\n",
    "    \n",
    "    return ans"
   ]
  },
  {
   "cell_type": "code",
   "execution_count": 33,
   "metadata": {},
   "outputs": [
    {
     "data": {
      "text/plain": [
       "[['n', 'i', 't', 'i', 'n', 'i'],\n",
       " ['n', 'i', 't', 'ini'],\n",
       " ['n', 'iti', 'n', 'i'],\n",
       " ['nitin', 'i']]"
      ]
     },
     "execution_count": 33,
     "metadata": {},
     "output_type": "execute_result"
    }
   ],
   "source": [
    "partition(\"nitini\")"
   ]
  },
  {
   "cell_type": "code",
   "execution_count": null,
   "metadata": {},
   "outputs": [],
   "source": []
  }
 ],
 "metadata": {
  "kernelspec": {
   "display_name": "Python 3 (ipykernel)",
   "language": "python",
   "name": "python3"
  },
  "language_info": {
   "codemirror_mode": {
    "name": "ipython",
    "version": 3
   },
   "file_extension": ".py",
   "mimetype": "text/x-python",
   "name": "python",
   "nbconvert_exporter": "python",
   "pygments_lexer": "ipython3",
   "version": "3.7.3"
  }
 },
 "nbformat": 4,
 "nbformat_minor": 2
}
