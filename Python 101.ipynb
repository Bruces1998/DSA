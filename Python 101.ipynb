{
 "cells": [
  {
   "cell_type": "code",
   "execution_count": 1,
   "metadata": {},
   "outputs": [
    {
     "name": "stdout",
     "output_type": "stream",
     "text": [
      "\n"
     ]
    }
   ],
   "source": [
    "print(aniket)"
   ]
  },
  {
   "cell_type": "code",
   "execution_count": null,
   "metadata": {},
   "outputs": [],
   "source": []
  },
  {
   "cell_type": "code",
   "execution_count": null,
   "metadata": {},
   "outputs": [],
   "source": []
  },
  {
   "cell_type": "code",
   "execution_count": null,
   "metadata": {},
   "outputs": [],
   "source": []
  },
  {
   "cell_type": "code",
   "execution_count": null,
   "metadata": {},
   "outputs": [],
   "source": []
  },
  {
   "cell_type": "code",
   "execution_count": null,
   "metadata": {},
   "outputs": [],
   "source": []
  },
  {
   "cell_type": "code",
   "execution_count": null,
   "metadata": {},
   "outputs": [],
   "source": []
  },
  {
   "cell_type": "code",
   "execution_count": null,
   "metadata": {},
   "outputs": [],
   "source": []
  },
  {
   "cell_type": "code",
   "execution_count": null,
   "metadata": {},
   "outputs": [],
   "source": []
  },
  {
   "cell_type": "code",
   "execution_count": null,
   "metadata": {},
   "outputs": [],
   "source": []
  },
  {
   "cell_type": "code",
   "execution_count": null,
   "metadata": {},
   "outputs": [],
   "source": []
  },
  {
   "cell_type": "code",
   "execution_count": null,
   "metadata": {},
   "outputs": [],
   "source": []
  },
  {
   "cell_type": "code",
   "execution_count": null,
   "metadata": {},
   "outputs": [],
   "source": [
    "n = int(input())\n",
    "wait_time = map(int, input().split(\" \"))\n",
    "get_time = map(int, input().split(\" \"))\n",
    "\n",
    "def get_min_index(arr, n):\n",
    "  index = -1\n",
    "  minn = 2**31\n",
    "  for i in range(n):\n",
    "    if arr[i] < minn:\n",
    "      minn = arr[i]\n",
    "      index = i\n",
    "      \n",
    "  return (index, minn)"
   ]
  },
  {
   "cell_type": "code",
   "execution_count": null,
   "metadata": {},
   "outputs": [],
   "source": [
    "n = int(input())\n",
    "wait_time = map(int, input().split(\" \"))\n",
    "get_time = map(int, input().split(\" \"))\n",
    "\n",
    "def get_min_index(arr, n):\n",
    "  index = -1\n",
    "  minn = 2**31\n",
    "  for i in range(n):\n",
    "    if arr[i] < minn:\n",
    "      minn = arr[i]\n",
    "      index = i\n",
    "      \n",
    "  return (index, minn)\n",
    "\n",
    "prev, minn = get_min_index(get_time, n)\n",
    "count = n-1\n",
    "\n",
    "i = (prev+1)%n\n",
    "while(count!=0):\n",
    "  get_time[i] = min(get_time[i], get_time[prev]+wait_time[prev])\n",
    "  count-=1\n",
    "  prev = i\n",
    "  i = (i+1)%n\n",
    "  \n",
    "  \n",
    "for val in get_time:\n",
    "  print(val)\n",
    "\n",
    "  "
   ]
  },
  {
   "cell_type": "code",
   "execution_count": null,
   "metadata": {},
   "outputs": [],
   "source": [
    "s = set()\n"
   ]
  },
  {
   "cell_type": "code",
   "execution_count": null,
   "metadata": {},
   "outputs": [],
   "source": [
    "s.add(\"a\")"
   ]
  },
  {
   "cell_type": "code",
   "execution_count": null,
   "metadata": {},
   "outputs": [],
   "source": [
    "s.add(\"a\")"
   ]
  },
  {
   "cell_type": "code",
   "execution_count": null,
   "metadata": {},
   "outputs": [],
   "source": [
    "string = 'nitin'"
   ]
  },
  {
   "cell_type": "code",
   "execution_count": null,
   "metadata": {},
   "outputs": [],
   "source": [
    "for i in string:\n",
    "    s.add(i)"
   ]
  },
  {
   "cell_type": "code",
   "execution_count": null,
   "metadata": {},
   "outputs": [],
   "source": [
    "s"
   ]
  },
  {
   "cell_type": "code",
   "execution_count": null,
   "metadata": {},
   "outputs": [],
   "source": [
    "s"
   ]
  },
  {
   "cell_type": "code",
   "execution_count": null,
   "metadata": {},
   "outputs": [],
   "source": [
    "s.add(\"ab\")"
   ]
  },
  {
   "cell_type": "code",
   "execution_count": null,
   "metadata": {},
   "outputs": [],
   "source": [
    "s"
   ]
  },
  {
   "cell_type": "code",
   "execution_count": null,
   "metadata": {},
   "outputs": [],
   "source": [
    "s.add(\"ba\")"
   ]
  },
  {
   "cell_type": "code",
   "execution_count": null,
   "metadata": {},
   "outputs": [],
   "source": [
    "s"
   ]
  },
  {
   "cell_type": "code",
   "execution_count": null,
   "metadata": {},
   "outputs": [],
   "source": [
    "string = input()\n",
    "dp = set()\n",
    "\n",
    "for i in string:\n",
    "    dp.add(i)\n",
    "n = len(string)\n",
    "for i in range(n-2):\n",
    "    for j in range(i+2, n):\n",
    "        print(string[i]+string[j])\n",
    "        dp.add(string[i]+string[j])\n",
    "    \n",
    "    \n",
    "print(len(dp))\n"
   ]
  },
  {
   "cell_type": "code",
   "execution_count": null,
   "metadata": {},
   "outputs": [],
   "source": [
    "def subsetSums(arr, N):\n",
    "    ans = set([])\n",
    "    i = 0\n",
    "    while(i < N):\n",
    "        curr = arr[i]\n",
    "        temp_arr = set(list(arr) for arr in ans)\n",
    "        \n",
    "        for ele in temp_arr:\n",
    "            ele.append(curr)\n",
    "        print(ans, temp_arr)\n",
    "        ans = ans.union(temp_arr)\n",
    "            \n",
    "        i += 1\n",
    "            \n",
    "    for i in ans:\n",
    "        print(sum(i))\n",
    "    return ans\n",
    "subsetSums([3, 4, 3], 3)\n"
   ]
  },
  {
   "cell_type": "code",
   "execution_count": null,
   "metadata": {},
   "outputs": [],
   "source": [
    "\n",
    "    \n",
    "    \n",
    "def combSum(arr, target):\n",
    "    ans = []\n",
    "    ds = []\n",
    "    def combSumUtil(ind, arr, target):\n",
    "        nonlocal ans\n",
    "        nonlocal ds\n",
    "        if ind == len(arr):\n",
    "            if target == 0:\n",
    "                print(ans, ds)\n",
    "                ans.append(ds.copy())\n",
    "\n",
    "            return\n",
    "\n",
    "        if arr[ind] <= target:\n",
    "            ds.append(arr[ind])\n",
    "            combSumUtil(ind+1, arr, target - arr[ind])\n",
    "            ds.pop(-1)\n",
    "\n",
    "        combSumUtil(ind+1, arr, target)\n",
    "    combSumUtil(0, arr, target)\n",
    "\n",
    "    return ans\n",
    "\n",
    "print(combSum([10,1,2,7,6,1,5], 8))"
   ]
  },
  {
   "cell_type": "markdown",
   "metadata": {},
   "source": []
  }
 ],
 "metadata": {
  "kernelspec": {
   "display_name": "Python 3",
   "language": "python",
   "name": "python3"
  },
  "language_info": {
   "codemirror_mode": {
    "name": "ipython",
    "version": 3
   },
   "file_extension": ".py",
   "mimetype": "text/x-python",
   "name": "python",
   "nbconvert_exporter": "python",
   "pygments_lexer": "ipython3",
   "version": "3.7.3"
  }
 },
 "nbformat": 4,
 "nbformat_minor": 2
}
