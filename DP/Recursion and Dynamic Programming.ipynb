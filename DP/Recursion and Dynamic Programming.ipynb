{
 "cells": [
  {
   "cell_type": "code",
   "execution_count": 6,
   "metadata": {},
   "outputs": [],
   "source": [
    "def fib_rec(n):\n",
    "    if n == 1 or n == 2:\n",
    "        return 1\n",
    "    \n",
    "    else:\n",
    "        return fib_rec(n-1) + fib_rec(n-2)\n",
    "    \n",
    "def fib(n):\n",
    "    a = 1\n",
    "    b = 1\n",
    "    if n == 1 or n == 2:\n",
    "        return 1\n",
    "    \n",
    "    for i in range(3, n+1):\n",
    "        c = a + b\n",
    "        a = b\n",
    "        b = c\n",
    "        \n",
    "    return c"
   ]
  },
  {
   "cell_type": "code",
   "execution_count": 10,
   "metadata": {},
   "outputs": [
    {
     "name": "stdout",
     "output_type": "stream",
     "text": [
      "34.61761522293091\n",
      "7.700920104980469e-05\n"
     ]
    }
   ],
   "source": [
    "import time\n",
    "t1 = time.time()\n",
    "fib_rec(40)\n",
    "t2 = time.time()\n",
    "print(t2-t1)\n",
    "\n",
    "t1 = time.time()\n",
    "fib(40)\n",
    "t2 = time.time()\n",
    "print(t2-t1)"
   ]
  },
  {
   "cell_type": "code",
   "execution_count": 41,
   "metadata": {},
   "outputs": [],
   "source": [
    "memo = {}\n",
    "def minCost(source, destination):\n",
    "    \n",
    "    if source == destination - 1:\n",
    "        return cost[source][destination]\n",
    "    \n",
    "    if source == destination:\n",
    "        return 0\n",
    "    if memo.get((source, destination)) is None:\n",
    "        memo[(source, destination)] = cost[source][destination]\n",
    "\n",
    "        for i in range(source+1, destination):\n",
    "            temp = minCost(source, i) + minCost(i, destination)\n",
    "\n",
    "            if temp < memo[(source, destination)]:\n",
    "                memo[(source, destination)] = temp\n",
    "\n",
    "    return memo[(source, destination)]"
   ]
  },
  {
   "cell_type": "code",
   "execution_count": 42,
   "metadata": {},
   "outputs": [
    {
     "name": "stdout",
     "output_type": "stream",
     "text": [
      "60\n",
      "0.0004177093505859375\n"
     ]
    }
   ],
   "source": [
    "cost = [\n",
    "    [0, 10, 75, 94],\n",
    "    [-1, 0, 35, 50],\n",
    "    [-1, -1, 0, 80],\n",
    "    [-1, -1, -1, 0]\n",
    "]\n",
    "import time\n",
    "t1 = time.time()\n",
    "print(minCost(0, 3))\n",
    "t2 = time.time()\n",
    "print(t2-t1)\n"
   ]
  },
  {
   "cell_type": "code",
   "execution_count": 39,
   "metadata": {},
   "outputs": [],
   "source": [
    "def minCost():\n",
    "    min_arr = [2**31]*len(cost)\n",
    "    min_arr[0] = 0\n",
    "    min_arr[1] = cost[0][1]\n",
    "    \n",
    "    for i in range(2, len(cost)):\n",
    "        min_arr[i] = cost[0][i]\n",
    "        \n",
    "        for j in range(1, i):\n",
    "            print(cost[i][j])\n",
    "            if min_arr[i] > min_arr[j] + cost[j][i]:\n",
    "                min_arr[i] = min_arr[j] + cost[j][i]\n",
    "    print(min_arr)\n",
    "    return min_arr[-1]"
   ]
  },
  {
   "cell_type": "code",
   "execution_count": 40,
   "metadata": {},
   "outputs": [
    {
     "name": "stdout",
     "output_type": "stream",
     "text": [
      "-1\n",
      "-1\n",
      "-1\n",
      "[0, 10, 45, 60]\n",
      "60\n",
      "0.0013251304626464844\n"
     ]
    }
   ],
   "source": [
    "t1 = time.time()\n",
    "print(minCost())\n",
    "t2 = time.time()\n",
    "print(t2-t1)\n"
   ]
  },
  {
   "cell_type": "code",
   "execution_count": 47,
   "metadata": {},
   "outputs": [],
   "source": [
    "#max string length\n",
    "memo = {}\n",
    "def maxString(string):\n",
    "    n = len(string)\n",
    "    \n",
    "    ans = 0\n",
    "    i = 0\n",
    "    while(i < n):\n",
    "        \n",
    "        j = i+1\n",
    "        \n",
    "        while(j < n):\n",
    "            length = j-i+1\n",
    "            if ans > length:\n",
    "                j+=2\n",
    "                continue\n",
    "            if memo[(i, j)] is None:  \n",
    "                lsum = 0\n",
    "                rsum = 0\n",
    "\n",
    "                for k in range(length//2):\n",
    "                    lsum += int(string[i+k])\n",
    "                    rsum += int(string[i+k+(length//2)])\n",
    "\n",
    "                if rsum == lsum:\n",
    "                    ans = length\n",
    "                \n",
    "            j+=2\n",
    "        i+=1\n",
    "                \n",
    "    return ans\n",
    "            "
   ]
  },
  {
   "cell_type": "code",
   "execution_count": 51,
   "metadata": {},
   "outputs": [
    {
     "name": "stdout",
     "output_type": "stream",
     "text": [
      "0.0013494491577148438\n"
     ]
    }
   ],
   "source": [
    "t1 = time.time()\n",
    "maxString('11174531421249546222')\n",
    "t2 = time.time()\n",
    "print(t2-t1)"
   ]
  },
  {
   "cell_type": "code",
   "execution_count": null,
   "metadata": {},
   "outputs": [],
   "source": [
    "def maxString(string):\n",
    "    arr = []\n",
    "    n = len(string)\n",
    "    summ = 0\n",
    "    for i in range(0, n):\n",
    "        summ += int(string[i])\n",
    "        arr.append(summ)\n",
    "        \n",
    "    \n",
    "    i = 0\n",
    "    while\n",
    "        \n",
    "                \n",
    "    return ans\n",
    "            "
   ]
  },
  {
   "cell_type": "code",
   "execution_count": null,
   "metadata": {},
   "outputs": [],
   "source": [
    "def addChild(root):\n",
    "    if root == None:\n",
    "        return\n",
    "    \n",
    "    addChild(root.left)\n",
    "    addChild(root.right)\n",
    "    \n",
    "    finalSum = root.data\n",
    "    \n",
    "    if root.left !=None:\n",
    "        finalSum += root.left.data\n",
    "        \n",
    "    if root.right != None:\n",
    "        final += root.right.data\n",
    "        \n",
    "        \n",
    "    root.data = finalSum"
   ]
  },
  {
   "cell_type": "code",
   "execution_count": 54,
   "metadata": {},
   "outputs": [],
   "source": [
    "def wayToScore(n):\n",
    "    \n",
    "    arr = [0]*(n+1)\n",
    "    arr[0] = 1\n",
    "    \n",
    "    for i in range(1, n+1):\n",
    "        if i-3>=0:\n",
    "            arr[i] += arr[i-3]\n",
    "            \n",
    "        if i-5 >= 0:\n",
    "            arr[i] += arr[i-5]\n",
    "            \n",
    "        if i-10 >= 0:\n",
    "            arr[i] += arr[i-10]\n",
    "            \n",
    "            \n",
    "    return arr[n]"
   ]
  },
  {
   "cell_type": "code",
   "execution_count": 55,
   "metadata": {},
   "outputs": [
    {
     "data": {
      "text/plain": [
       "5"
      ]
     },
     "execution_count": 55,
     "metadata": {},
     "output_type": "execute_result"
    }
   ],
   "source": [
    "wayToScore(13)"
   ]
  },
  {
   "cell_type": "code",
   "execution_count": null,
   "metadata": {},
   "outputs": [],
   "source": [
    "def get_product(arr, k):\n",
    "    n = len(arr)\n",
    "    dp = arr.copy()\n",
    "    for i in range(1, n):\n",
    "        for j in range(i):\n",
    "            if arr[i]*dp[j] < k:\n",
    "                dp[]"
   ]
  }
 ],
 "metadata": {
  "kernelspec": {
   "display_name": "Python 3",
   "language": "python",
   "name": "python3"
  },
  "language_info": {
   "codemirror_mode": {
    "name": "ipython",
    "version": 3
   },
   "file_extension": ".py",
   "mimetype": "text/x-python",
   "name": "python",
   "nbconvert_exporter": "python",
   "pygments_lexer": "ipython3",
   "version": "3.7.3"
  }
 },
 "nbformat": 4,
 "nbformat_minor": 2
}
