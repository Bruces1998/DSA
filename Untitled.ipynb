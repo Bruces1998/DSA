{
 "cells": [
  {
   "cell_type": "code",
   "execution_count": null,
   "metadata": {},
   "outputs": [],
   "source": [
    "n = int(input())\n",
    "wait_time = map(int, input().split(\" \"))\n",
    "get_time = map(int, input().split(\" \"))\n",
    "\n",
    "def get_min_index(arr, n):\n",
    "  index = -1\n",
    "  minn = 2**31\n",
    "  for i in range(n):\n",
    "    if arr[i] < minn:\n",
    "      minn = arr[i]\n",
    "      index = i\n",
    "      \n",
    "  return (index, minn)"
   ]
  },
  {
   "cell_type": "code",
   "execution_count": null,
   "metadata": {},
   "outputs": [],
   "source": [
    "n = int(input())\n",
    "wait_time = map(int, input().split(\" \"))\n",
    "get_time = map(int, input().split(\" \"))\n",
    "\n",
    "def get_min_index(arr, n):\n",
    "  index = -1\n",
    "  minn = 2**31\n",
    "  for i in range(n):\n",
    "    if arr[i] < minn:\n",
    "      minn = arr[i]\n",
    "      index = i\n",
    "      \n",
    "  return (index, minn)\n",
    "\n",
    "prev, minn = get_min_index(get_time, n)\n",
    "count = n-1\n",
    "\n",
    "i = (prev+1)%n\n",
    "while(count!=0):\n",
    "  get_time[i] = min(get_time[i], get_time[prev]+wait_time[prev])\n",
    "  count-=1\n",
    "  prev = i\n",
    "  i = (i+1)%n\n",
    "  \n",
    "  \n",
    "for val in get_time:\n",
    "  print(val)\n",
    "\n",
    "  "
   ]
  },
  {
   "cell_type": "code",
   "execution_count": 3,
   "metadata": {},
   "outputs": [],
   "source": [
    "s = set()\n"
   ]
  },
  {
   "cell_type": "code",
   "execution_count": 4,
   "metadata": {},
   "outputs": [],
   "source": [
    "s.add(\"a\")"
   ]
  },
  {
   "cell_type": "code",
   "execution_count": 5,
   "metadata": {},
   "outputs": [],
   "source": [
    "s.add(\"a\")"
   ]
  },
  {
   "cell_type": "code",
   "execution_count": 7,
   "metadata": {},
   "outputs": [],
   "source": [
    "string = 'nitin'"
   ]
  },
  {
   "cell_type": "code",
   "execution_count": 8,
   "metadata": {},
   "outputs": [],
   "source": [
    "for i in string:\n",
    "    s.add(i)"
   ]
  },
  {
   "cell_type": "code",
   "execution_count": 9,
   "metadata": {},
   "outputs": [
    {
     "data": {
      "text/plain": [
       "{'a', 'i', 'n', 't'}"
      ]
     },
     "execution_count": 9,
     "metadata": {},
     "output_type": "execute_result"
    }
   ],
   "source": [
    "s"
   ]
  },
  {
   "cell_type": "code",
   "execution_count": 10,
   "metadata": {},
   "outputs": [
    {
     "data": {
      "text/plain": [
       "{'a', 'i', 'n', 't'}"
      ]
     },
     "execution_count": 10,
     "metadata": {},
     "output_type": "execute_result"
    }
   ],
   "source": [
    "s"
   ]
  },
  {
   "cell_type": "code",
   "execution_count": 11,
   "metadata": {},
   "outputs": [],
   "source": [
    "s.add(\"ab\")"
   ]
  },
  {
   "cell_type": "code",
   "execution_count": 12,
   "metadata": {},
   "outputs": [
    {
     "data": {
      "text/plain": [
       "{'a', 'ab', 'i', 'n', 't'}"
      ]
     },
     "execution_count": 12,
     "metadata": {},
     "output_type": "execute_result"
    }
   ],
   "source": [
    "s"
   ]
  },
  {
   "cell_type": "code",
   "execution_count": 13,
   "metadata": {},
   "outputs": [],
   "source": [
    "s.add(\"ba\")"
   ]
  },
  {
   "cell_type": "code",
   "execution_count": 14,
   "metadata": {},
   "outputs": [
    {
     "data": {
      "text/plain": [
       "{'a', 'ab', 'ba', 'i', 'n', 't'}"
      ]
     },
     "execution_count": 14,
     "metadata": {},
     "output_type": "execute_result"
    }
   ],
   "source": [
    "s"
   ]
  },
  {
   "cell_type": "code",
   "execution_count": 15,
   "metadata": {},
   "outputs": [
    {
     "name": "stdout",
     "output_type": "stream",
     "text": [
      "chokudai\n",
      "co\n",
      "ck\n",
      "cu\n",
      "cd\n",
      "ca\n",
      "ci\n",
      "hk\n",
      "hu\n",
      "hd\n",
      "ha\n",
      "hi\n",
      "ou\n",
      "od\n",
      "oa\n",
      "oi\n",
      "kd\n",
      "ka\n",
      "ki\n",
      "ua\n",
      "ui\n",
      "di\n",
      "29\n"
     ]
    }
   ],
   "source": [
    "string = input()\n",
    "dp = set()\n",
    "\n",
    "for i in string:\n",
    "    dp.add(i)\n",
    "n = len(string)\n",
    "for i in range(n-2):\n",
    "    for j in range(i+2, n):\n",
    "        print(string[i]+string[j])\n",
    "        dp.add(string[i]+string[j])\n",
    "    \n",
    "    \n",
    "print(len(dp))\n"
   ]
  },
  {
   "cell_type": "code",
   "execution_count": null,
   "metadata": {},
   "outputs": [],
   "source": []
  }
 ],
 "metadata": {
  "kernelspec": {
   "display_name": "Python 3",
   "language": "python",
   "name": "python3"
  },
  "language_info": {
   "codemirror_mode": {
    "name": "ipython",
    "version": 3
   },
   "file_extension": ".py",
   "mimetype": "text/x-python",
   "name": "python",
   "nbconvert_exporter": "python",
   "pygments_lexer": "ipython3",
   "version": "3.7.3"
  }
 },
 "nbformat": 4,
 "nbformat_minor": 2
}
