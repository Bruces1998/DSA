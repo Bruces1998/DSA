{
 "cells": [
  {
   "cell_type": "code",
   "execution_count": 1,
   "metadata": {},
   "outputs": [
    {
     "data": {
      "text/plain": [
       "'\\nResources:\\nhttps://leetcode.com/discuss/study-guide/1688903/Solved-all-two-pointers-problems-in-100-days\\n'"
      ]
     },
     "execution_count": 1,
     "metadata": {},
     "output_type": "execute_result"
    }
   ],
   "source": [
    "\"\"\"\n",
    "Resources:\n",
    "https://leetcode.com/discuss/study-guide/1688903/Solved-all-two-pointers-problems-in-100-days\n",
    "\"\"\""
   ]
  },
  {
   "cell_type": "code",
   "execution_count": 2,
   "metadata": {},
   "outputs": [
    {
     "ename": "SyntaxError",
     "evalue": "invalid syntax (1445415186.py, line 14)",
     "output_type": "error",
     "traceback": [
      "\u001b[0;36m  Cell \u001b[0;32mIn[2], line 14\u001b[0;36m\u001b[0m\n\u001b[0;31m    return r-l+\u001b[0m\n\u001b[0m               ^\u001b[0m\n\u001b[0;31mSyntaxError\u001b[0m\u001b[0;31m:\u001b[0m invalid syntax\n"
     ]
    }
   ],
   "source": [
    "\"\"\"\n",
    "https://leetcode.com/problems/max-consecutive-ones-iii/description/\n",
    "\"\"\"\n",
    "\n",
    "def get_cons_ones(nums, k):\n",
    "    l=r=0    \n",
    "    for r in range(len(nums)):\n",
    "        if nums[r] == 0:\n",
    "            k-=1\n",
    "        if k<0:\n",
    "            if nums[l] == 0:\n",
    "                k+=1\n",
    "            l+=1\n",
    "    return r-l+ 1\n",
    "\n"
   ]
  },
  {
   "cell_type": "code",
   "execution_count": 1,
   "metadata": {},
   "outputs": [],
   "source": [
    "\"\"\"\n",
    "https://leetcode.com/problems/longest-repeating-character-replacement/\n",
    "Thoughts:\n",
    "keep the start index fixed and iterate through the end index,\n",
    "now everytime value of k is crossed, update the start index\n",
    "further and remove that element from the mapp.\n",
    "\"\"\"\n",
    "def characterReplacement(s: str, k: int) -> int:\n",
    "        left = 0\n",
    "        c_frequency = {}\n",
    "        longest_str_len = 0\n",
    "\n",
    "        for right in range(len(s)):\n",
    "            if c_frequency.get(s[right]) is None:\n",
    "                c_frequency[s[right]] = 0\n",
    "            \n",
    "            c_frequency[s[right]] += 1\n",
    "\n",
    "            cell_count = right - left + 1\n",
    "            if cell_count - max(c_frequency.values()) <= k:\n",
    "                longest_str_len = max(longest_str_len, cell_count)\n",
    "\n",
    "            else:\n",
    "                c_frequency[s[left]] -= 1\n",
    "                if c_frequency[s[left]] == 0:\n",
    "                    del c_frequency[s[left]]\n",
    "                \n",
    "                left += 1\n",
    "\n",
    "        \n",
    "        return longest_str_len"
   ]
  },
  {
   "cell_type": "code",
   "execution_count": 2,
   "metadata": {},
   "outputs": [],
   "source": [
    "\"\"\"\n",
    "The concept of atmost in sliding window\n",
    "exactly(K something) = atmost(K) - atmost(k-1)\n",
    "\"\"\"\n",
    "\n",
    "#example \n",
    "#https://leetcode.com/problems/binary-subarrays-with-sum/description/\n",
    "\n",
    "#function to return count of subarrays with sum <= goal\n",
    "def atmost(nums, goal):\n",
    "    if goal < 0:\n",
    "        return 0\n",
    "    \n",
    "    res = 0\n",
    "    i = 0\n",
    "\n",
    "    for j in range(len(nums)):\n",
    "        goal -= nums[j]\n",
    "        while goal < 0:\n",
    "            goal += nums[i]\n",
    "            i += 1\n",
    "\n",
    "        res = j - i + 1\n",
    "    \n",
    "    return res\n",
    "\n",
    "def BinarySUbarrays(nums, goal):\n",
    "    return atmost(nums, goal) - atmost(goal - 1)\n",
    "\n",
    "\n",
    "\n",
    "##One more example\n",
    "#https://leetcode.com/problems/count-number-of-nice-subarrays/description\n",
    "\n",
    "def number_of_nice(arr, k):\n",
    "\n",
    "    return atmost(arr, k) - atmost(arr, k - 1)\n",
    "\n",
    "def atmost(arr, k):\n",
    "\n",
    "    start = 0\n",
    "    count = 0\n",
    "\n",
    "    for end in range(len(nums)):\n",
    "        k -= arr[end] % 2\n",
    "\n",
    "        while k < 0:\n",
    "            k += arr[start] % 2\n",
    "            start += 1\n",
    "\n",
    "        count = end - start + 1\n",
    "\n",
    "    \n",
    "    return count\n"
   ]
  },
  {
   "cell_type": "code",
   "execution_count": null,
   "metadata": {},
   "outputs": [],
   "source": [
    "\"\"\"\n",
    "https://leetcode.com/problems/number-of-substrings-containing-all-three-characters/solutions/516977/java-c-python-easy-and-concise/\n",
    "\n",
    "\"\"\""
   ]
  }
 ],
 "metadata": {
  "kernelspec": {
   "display_name": "Python 3",
   "language": "python",
   "name": "python3"
  },
  "language_info": {
   "codemirror_mode": {
    "name": "ipython",
    "version": 3
   },
   "file_extension": ".py",
   "mimetype": "text/x-python",
   "name": "python",
   "nbconvert_exporter": "python",
   "pygments_lexer": "ipython3",
   "version": "3.11.4"
  }
 },
 "nbformat": 4,
 "nbformat_minor": 2
}
