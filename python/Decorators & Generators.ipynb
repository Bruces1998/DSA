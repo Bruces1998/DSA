{
 "cells": [
  {
   "cell_type": "code",
   "execution_count": 3,
   "metadata": {},
   "outputs": [
    {
     "name": "stdout",
     "output_type": "stream",
     "text": [
      "3628800\n",
      "Total Time:  factorial 2.001746416091919\n"
     ]
    }
   ],
   "source": [
    "##Decorators\n",
    "'''\n",
    "Decorators allow us to wrap our function\n",
    "inside other functions without affecting \n",
    "it's functionality.\n",
    "'''\n",
    "import time\n",
    "import math\n",
    "\n",
    "def calculateTime(func):\n",
    "    def inner(*args, **kwargs):\n",
    "        begin = time.time()\n",
    "        func(*args, **kwargs)\n",
    "        end = time.time()\n",
    "\n",
    "        print(\"Total Time: \", func.__name__, end-begin)\n",
    "\n",
    "    return inner\n",
    "    \n",
    "    \n",
    "@calculateTime\n",
    "def factorial(num):\n",
    " \n",
    "    # sleep 2 seconds because it takes very less time\n",
    "    # so that you can see the actual difference\n",
    "    time.sleep(2)\n",
    "    print(math.factorial(num))\n",
    " \n",
    "# calling the function.\n",
    "factorial(10)"
   ]
  },
  {
   "cell_type": "code",
   "execution_count": 23,
   "metadata": {},
   "outputs": [],
   "source": [
    "def other(some_func):\n",
    "    \n",
    "    def wrap():\n",
    "        \n",
    "        print(\"padding up\")\n",
    "        print(some_func())\n",
    "        print(\"padding down`\")\n",
    "        \n",
    "    return wrap\n",
    "\n",
    "@other\n",
    "def hello():\n",
    "    return 'HI Aniket'"
   ]
  },
  {
   "cell_type": "code",
   "execution_count": 24,
   "metadata": {},
   "outputs": [
    {
     "name": "stdout",
     "output_type": "stream",
     "text": [
      "padding up\n",
      "HI Aniket\n",
      "padding down`\n"
     ]
    }
   ],
   "source": [
    "hello()"
   ]
  },
  {
   "cell_type": "code",
   "execution_count": 25,
   "metadata": {},
   "outputs": [
    {
     "name": "stdout",
     "output_type": "stream",
     "text": [
      "0\n",
      "1\n",
      "8\n",
      "27\n",
      "64\n",
      "125\n",
      "216\n",
      "343\n",
      "512\n",
      "729\n"
     ]
    }
   ],
   "source": [
    "#Generators\n",
    "def generate_cube(n):\n",
    "    for x in range(n):\n",
    "        yield x**3\n",
    "        \n",
    "for x in generate_cube(10):\n",
    "    print(x)"
   ]
  },
  {
   "cell_type": "code",
   "execution_count": 26,
   "metadata": {},
   "outputs": [
    {
     "name": "stdout",
     "output_type": "stream",
     "text": [
      "<generator object generate_cube at 0x7fdbf865b7c8>\n"
     ]
    }
   ],
   "source": []
  },
  {
   "cell_type": "code",
   "execution_count": null,
   "metadata": {},
   "outputs": [],
   "source": []
  }
 ],
 "metadata": {
  "kernelspec": {
   "display_name": "Python 3",
   "language": "python",
   "name": "python3"
  },
  "language_info": {
   "codemirror_mode": {
    "name": "ipython",
    "version": 3
   },
   "file_extension": ".py",
   "mimetype": "text/x-python",
   "name": "python",
   "nbconvert_exporter": "python",
   "pygments_lexer": "ipython3",
   "version": "3.7.3"
  }
 },
 "nbformat": 4,
 "nbformat_minor": 2
}
